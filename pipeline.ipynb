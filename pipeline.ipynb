{
 "cells": [
  {
   "cell_type": "code",
   "execution_count": null,
   "id": "5c808e93-f025-4cf0-8835-940e00986f87",
   "metadata": {},
   "outputs": [],
   "source": [
    "%load_ext autoreload"
   ]
  },
  {
   "cell_type": "code",
   "execution_count": null,
   "id": "75922dd1-04d2-4d2e-9f0a-0dd60b948bb5",
   "metadata": {},
   "outputs": [],
   "source": [
    "%autoreload 2"
   ]
  },
  {
   "cell_type": "code",
   "execution_count": null,
   "id": "0a6c8dde-e44d-4848-a5b8-15890e480a80",
   "metadata": {},
   "outputs": [],
   "source": [
    "import pandas as pd\n",
    "import ipyplot\n",
    "import torch\n",
    "import pytorch_lightning as pl\n",
    "from sklearn.metrics import f1_score\n",
    "%matplotlib inline\n",
    "\n",
    "import torchvision.transforms as transforms\n",
    "from torch.nn import functional as F\n",
    "from torch import nn\n",
    "from torch.nn import *\n",
    "import pytorch_lightning as pl\n",
    "import timm\n",
    "\n",
    "from torch.utils.data import Dataset\n",
    "import torchvision\n",
    "import torchvision.transforms as transforms\n",
    "from torch.nn import functional as F\n",
    "from torch import nn\n",
    "import pytorch_lightning as pl\n",
    "from pytorch_lightning.core.lightning import LightningModule\n",
    "import timm\n",
    "import pandas as pd\n",
    "import numpy as np\n",
    "from matplotlib import pyplot as plt\n",
    "import ipyplot\n",
    "from skimage import io\n",
    "from sklearn.metrics import balanced_accuracy_score\n",
    "from tqdm.auto import tqdm"
   ]
  },
  {
   "cell_type": "markdown",
   "id": "f6dbf684-22ce-4a3d-81c8-ba7b73aea356",
   "metadata": {},
   "source": [
    "## Model"
   ]
  },
  {
   "cell_type": "code",
   "execution_count": null,
   "id": "11a81876-b8bb-4899-9d91-bd986a8ca8b6",
   "metadata": {},
   "outputs": [],
   "source": [
    "class ImageClassifier(pl.LightningModule):\n",
    "    def __init__(self, trunk=None, class_weight=None, learning_rate=1e-3):\n",
    "        super().__init__()\n",
    "        self.class_weight = class_weight\n",
    "        self.trunk = trunk or timm.create_model('mobilenetv2_100', pretrained=True, num_classes=2)\n",
    "        self.learning_rate =  learning_rate\n",
    "\n",
    "    def forward(self, x):\n",
    "        return self.trunk(x)\n",
    "\n",
    "    def predict_proba(self, x):\n",
    "        probabilities = nn.functional.softmax(self.forward(x), dim=1)\n",
    "        return probabilities\n",
    "\n",
    "    def predict(self, x):\n",
    "        return torch.max(self.forward(x), 1)[1]\n",
    "\n",
    "    def configure_optimizers(self):\n",
    "        optimizer = torch.optim.AdamW(self.parameters(),\n",
    "                                      lr=self.learning_rate)\n",
    "        return optimizer\n",
    "\n",
    "    def training_step(self, batch, batch_idx):\n",
    "        x, y = batch\n",
    "        y_hat = self(x)\n",
    "        loss = nn.CrossEntropyLoss(weight=self.class_weight)(y_hat, y)\n",
    "        return loss\n",
    "\n",
    "    def validation_step(self, batch, batch_idx):\n",
    "        x, y = batch\n",
    "        y_hat = self(x)\n",
    "        loss = nn.CrossEntropyLoss(weight=self.class_weight)(y_hat, y)\n",
    "        self.log(\"val_loss\", loss)\n",
    "\n",
    "    def configure_optimizers(self):\n",
    "        optimizer = optimizer = torch.optim.Adam(self.layer.parameters(), lr=1e-3)\n",
    "        lr_scheduler = torch.optim.lr_scheduler.StepLR(optimizer, step_size=1)\n",
    "        return [optimizer], [lr_scheduler]\n",
    "        "
   ]
  },
  {
   "cell_type": "code",
   "execution_count": null,
   "id": "32096cad-c45d-4076-ad74-423490d7febd",
   "metadata": {},
   "outputs": [],
   "source": [
    "MAX_EPOCHS = 100\n",
    "BATCH_SIZE = 128\n",
    "LEARNING_RATE = 1e-3"
   ]
  },
  {
   "cell_type": "code",
   "execution_count": null,
   "id": "7f2d7a84-431f-49d5-9e83-2b5972395e92",
   "metadata": {},
   "outputs": [],
   "source": [
    "transform = transforms.Compose(\n",
    "    [transforms.ToTensor(),\n",
    "     transforms.RandomHorizontalFlip(p=0.4),\n",
    "     transforms.RandomApply([transforms.ColorJitter(\n",
    "            0.8 * self.jitter_strength,\n",
    "            0.8 * self.jitter_strength,\n",
    "            0.8 * self.jitter_strength,\n",
    "            0.2 * self.jitter_strength,\n",
    "        )], p=0.5),\n",
    "     transforms.RandomGrayscale(p=0.2),\n",
    "     transforms.Resize((100, 100))\n",
    "     ]\n",
    ")"
   ]
  },
  {
   "cell_type": "code",
   "execution_count": null,
   "id": "38c1d0f5-e212-4a1e-9851-4f6cac0e26de",
   "metadata": {},
   "outputs": [],
   "source": [
    "class ImagesDataset(Dataset):\n",
    "    def __init__(self, image_paths, labels = None, transform=None):\n",
    "        super().__init__()\n",
    "        self.image_paths = image_paths\n",
    "        self.labels = labels\n",
    "        self.targets = self.labels\n",
    "        self.transform = transform\n",
    "        \n",
    "        if self.labels is not None:\n",
    "            assert len(self.image_paths) == len(self.labels)\n",
    "\n",
    "    def __len__(self):\n",
    "        return len(self.image_paths)\n",
    "\n",
    "    def __getitem__(self, idx):\n",
    "        if self.labels is not None:\n",
    "            label = self.labels[idx]\n",
    "        else:\n",
    "            label = -1 # Carefully handle that!\n",
    "        img = io.imread(self.image_paths[idx])\n",
    "        img = img[...,:3] # Some images have 4 channels, fix that\n",
    "        if self.transform:\n",
    "            img = self.transform(img)\n",
    "\n",
    "        return img, label\n",
    "\n",
    "def evaluate_model(model, dataset, batch_size=32, num_workers=4):\n",
    "    model.eval()\n",
    "    loader = torch.utils.data.DataLoader(dataset, \n",
    "                                           batch_size=batch_size,\n",
    "                                           num_workers=num_workers,\n",
    "                                           shuffle=False)\n",
    "    predictions = []\n",
    "    labels = []\n",
    "    with torch.no_grad():\n",
    "        for x, y in tqdm(loader):\n",
    "            prediction = model.predict(x).numpy()\n",
    "            predictions += list(prediction)\n",
    "            labels += list(y.numpy())\n",
    "            \n",
    "    return labels, predictions\n",
    "\n"
   ]
  },
  {
   "cell_type": "code",
   "execution_count": null,
   "id": "03aa3a18-20a9-40d3-a229-ac5f45723317",
   "metadata": {},
   "outputs": [],
   "source": [
    "train_dataset = ImagesDataset(train_image_paths, train_labels, transform=transform)\n",
    "\n",
    "test_dataset = ImagesDataset(test_image_paths, transform=transform)\n",
    "\n",
    "train_loader = torch.utils.data.DataLoader(train_dataset, \n",
    "                                           batch_size= BATCH_SIZE,\n",
    "                                           num_workers=16,\n",
    "                                           shuffle=False)\n",
    "\n",
    "test_loader = torch.utils.data.DataLoader(test_dataset,\n",
    "                                          batch_size=1,\n",
    "                                          num_workers=16,\n",
    "                                          shuffle=False)\n"
   ]
  },
  {
   "cell_type": "code",
   "execution_count": null,
   "id": "2330582d-e7ae-40a7-bd1a-0c3ecc668da3",
   "metadata": {},
   "outputs": [],
   "source": [
    "model = ImageClassifier(learning_rate=params.LEARNING_RATE)\n",
    "\n",
    "trainer = pl.Trainer(\n",
    "    max_epochs=params.MAX_EPOCHS,\n",
    "    log_every_n_steps=-1,\n",
    "    gpus=-1,\n",
    ")\n",
    "trainer.fit(model, train_loader)"
   ]
  },
  {
   "cell_type": "code",
   "execution_count": null,
   "id": "28b43a3b-e356-4d8a-8da6-3b075b463179",
   "metadata": {},
   "outputs": [],
   "source": [
    "labels, predictions = evaluate_model(model, train_dataset)\n",
    "\n",
    "f1_score(labels, predictions, labels=1, average='binary')"
   ]
  },
  {
   "cell_type": "markdown",
   "id": "ec67df2c-5246-4d3c-8f4d-ba1d2a99498d",
   "metadata": {},
   "source": [
    "## Дообучение"
   ]
  },
  {
   "cell_type": "markdown",
   "id": "bc139f19-bd6e-4598-8807-4ab4cffbf78a",
   "metadata": {},
   "source": [
    "На самом деле нужно просто скачать модель и продолжить обучать на новом датасете, который мы разметили на Толоке."
   ]
  },
  {
   "cell_type": "code",
   "execution_count": null,
   "id": "1a7dda01-6894-44e5-93f3-a716aa8b1c02",
   "metadata": {},
   "outputs": [],
   "source": [
    "model = ImageClassifier.load_from_checkpoint('model.ckpt')"
   ]
  },
  {
   "cell_type": "code",
   "execution_count": null,
   "id": "84617032-9c07-400e-b350-e2bf56ac5683",
   "metadata": {},
   "outputs": [],
   "source": [
    "new_train_dataset = ImagesDataset(new_train_image_paths, new_train_labels, transform=transform)\n",
    "new_train_loader = torch.utils.data.DataLoader(new_train_dataset,\n",
    "                                               batch_size = BATCH_SIZE,\n",
    "                                               num_workers=16,\n",
    "                                               shuffle=False)\n",
    "\n",
    "trainer.fit(model, new_train_loader)"
   ]
  }
 ],
 "metadata": {
  "kernelspec": {
   "display_name": "Python 3 (ipykernel)",
   "language": "python",
   "name": "python3"
  },
  "language_info": {
   "codemirror_mode": {
    "name": "ipython",
    "version": 3
   },
   "file_extension": ".py",
   "mimetype": "text/x-python",
   "name": "python",
   "nbconvert_exporter": "python",
   "pygments_lexer": "ipython3",
   "version": "3.7.10"
  }
 },
 "nbformat": 4,
 "nbformat_minor": 5
}
