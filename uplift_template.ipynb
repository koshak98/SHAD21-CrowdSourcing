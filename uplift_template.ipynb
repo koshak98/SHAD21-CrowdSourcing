{
 "cells": [
  {
   "cell_type": "code",
   "execution_count": 1,
   "metadata": {},
   "outputs": [],
   "source": [
    "import warnings\n",
    "warnings.filterwarnings(\"ignore\")\n",
    "import pandas as pd\n",
    "import numpy as np"
   ]
  },
  {
   "cell_type": "code",
   "execution_count": 2,
   "metadata": {},
   "outputs": [],
   "source": [
    "# train and test are splitted by time\n",
    "train_df = pd.read_csv('train.csv')\n",
    "test_df = pd.read_csv('test.csv')"
   ]
  },
  {
   "cell_type": "markdown",
   "metadata": {
    "tags": []
   },
   "source": [
    "### Описание данных"
   ]
  },
  {
   "cell_type": "code",
   "execution_count": 3,
   "metadata": {},
   "outputs": [
    {
     "data": {
      "text/html": [
       "<div>\n",
       "<style scoped>\n",
       "    .dataframe tbody tr th:only-of-type {\n",
       "        vertical-align: middle;\n",
       "    }\n",
       "\n",
       "    .dataframe tbody tr th {\n",
       "        vertical-align: top;\n",
       "    }\n",
       "\n",
       "    .dataframe thead th {\n",
       "        text-align: right;\n",
       "    }\n",
       "</style>\n",
       "<table border=\"1\" class=\"dataframe\">\n",
       "  <thead>\n",
       "    <tr style=\"text-align: right;\">\n",
       "      <th></th>\n",
       "      <th>city_56_cat_distribution_ekb</th>\n",
       "      <th>city_56_cat_distribution_kazan</th>\n",
       "      <th>city_56_cat_distribution_kransnodar</th>\n",
       "      <th>city_56_cat_distribution_moscow</th>\n",
       "      <th>city_56_cat_distribution_others</th>\n",
       "      <th>city_56_cat_distribution_spb</th>\n",
       "      <th>discount_value_56_sum</th>\n",
       "      <th>duration_sec_56_sum_with_orders</th>\n",
       "      <th>duration_sec_56_sum_wo_orders</th>\n",
       "      <th>is_control</th>\n",
       "      <th>...</th>\n",
       "      <th>session_part_of_local_day_56_cat_distribution_21-24</th>\n",
       "      <th>session_part_of_local_day_56_cat_distribution_3-6</th>\n",
       "      <th>session_part_of_local_day_56_cat_distribution_6-9</th>\n",
       "      <th>session_part_of_local_day_56_cat_distribution_9-12</th>\n",
       "      <th>session_with_offer_56_conversion_rate</th>\n",
       "      <th>success_orders_56_cnt</th>\n",
       "      <th>travel_distance_km_56_sum</th>\n",
       "      <th>travel_time_min_56_sum</th>\n",
       "      <th>exp_discount_value</th>\n",
       "      <th>exp_n_trips</th>\n",
       "    </tr>\n",
       "  </thead>\n",
       "  <tbody>\n",
       "    <tr>\n",
       "      <th>0</th>\n",
       "      <td>0.0</td>\n",
       "      <td>0.0</td>\n",
       "      <td>0.0</td>\n",
       "      <td>0.866667</td>\n",
       "      <td>0.133333</td>\n",
       "      <td>0.0</td>\n",
       "      <td>112.0</td>\n",
       "      <td>10141</td>\n",
       "      <td>9369</td>\n",
       "      <td>True</td>\n",
       "      <td>...</td>\n",
       "      <td>0.202381</td>\n",
       "      <td>0.000000</td>\n",
       "      <td>0.035714</td>\n",
       "      <td>0.095238</td>\n",
       "      <td>0.400000</td>\n",
       "      <td>30</td>\n",
       "      <td>214.623</td>\n",
       "      <td>479.35</td>\n",
       "      <td>0.000000</td>\n",
       "      <td>5.526326</td>\n",
       "    </tr>\n",
       "    <tr>\n",
       "      <th>1</th>\n",
       "      <td>0.0</td>\n",
       "      <td>0.0</td>\n",
       "      <td>0.0</td>\n",
       "      <td>0.000000</td>\n",
       "      <td>1.000000</td>\n",
       "      <td>0.0</td>\n",
       "      <td>57.0</td>\n",
       "      <td>938</td>\n",
       "      <td>19152</td>\n",
       "      <td>False</td>\n",
       "      <td>...</td>\n",
       "      <td>0.326923</td>\n",
       "      <td>0.019231</td>\n",
       "      <td>0.057692</td>\n",
       "      <td>0.000000</td>\n",
       "      <td>0.347826</td>\n",
       "      <td>16</td>\n",
       "      <td>156.276</td>\n",
       "      <td>265.90</td>\n",
       "      <td>10.252258</td>\n",
       "      <td>1.230271</td>\n",
       "    </tr>\n",
       "    <tr>\n",
       "      <th>2</th>\n",
       "      <td>0.0</td>\n",
       "      <td>0.0</td>\n",
       "      <td>0.0</td>\n",
       "      <td>0.944444</td>\n",
       "      <td>0.055556</td>\n",
       "      <td>0.0</td>\n",
       "      <td>12.0</td>\n",
       "      <td>7176</td>\n",
       "      <td>6947</td>\n",
       "      <td>False</td>\n",
       "      <td>...</td>\n",
       "      <td>0.126437</td>\n",
       "      <td>0.011494</td>\n",
       "      <td>0.034483</td>\n",
       "      <td>0.229885</td>\n",
       "      <td>0.507042</td>\n",
       "      <td>36</td>\n",
       "      <td>195.984</td>\n",
       "      <td>377.00</td>\n",
       "      <td>0.000000</td>\n",
       "      <td>1.000503</td>\n",
       "    </tr>\n",
       "    <tr>\n",
       "      <th>3</th>\n",
       "      <td>0.0</td>\n",
       "      <td>0.0</td>\n",
       "      <td>0.0</td>\n",
       "      <td>0.939394</td>\n",
       "      <td>0.060606</td>\n",
       "      <td>0.0</td>\n",
       "      <td>86.0</td>\n",
       "      <td>7054</td>\n",
       "      <td>6011</td>\n",
       "      <td>False</td>\n",
       "      <td>...</td>\n",
       "      <td>0.103896</td>\n",
       "      <td>0.012987</td>\n",
       "      <td>0.025974</td>\n",
       "      <td>0.207792</td>\n",
       "      <td>0.540984</td>\n",
       "      <td>33</td>\n",
       "      <td>174.685</td>\n",
       "      <td>345.10</td>\n",
       "      <td>0.000000</td>\n",
       "      <td>0.410090</td>\n",
       "    </tr>\n",
       "    <tr>\n",
       "      <th>4</th>\n",
       "      <td>0.0</td>\n",
       "      <td>0.0</td>\n",
       "      <td>0.0</td>\n",
       "      <td>0.000000</td>\n",
       "      <td>0.000000</td>\n",
       "      <td>0.0</td>\n",
       "      <td>0.0</td>\n",
       "      <td>0</td>\n",
       "      <td>0</td>\n",
       "      <td>False</td>\n",
       "      <td>...</td>\n",
       "      <td>0.000000</td>\n",
       "      <td>0.000000</td>\n",
       "      <td>0.000000</td>\n",
       "      <td>0.000000</td>\n",
       "      <td>0.000000</td>\n",
       "      <td>0</td>\n",
       "      <td>0.000</td>\n",
       "      <td>0.00</td>\n",
       "      <td>0.000000</td>\n",
       "      <td>0.000000</td>\n",
       "    </tr>\n",
       "  </tbody>\n",
       "</table>\n",
       "<p>5 rows × 58 columns</p>\n",
       "</div>"
      ],
      "text/plain": [
       "   city_56_cat_distribution_ekb  city_56_cat_distribution_kazan  \\\n",
       "0                           0.0                             0.0   \n",
       "1                           0.0                             0.0   \n",
       "2                           0.0                             0.0   \n",
       "3                           0.0                             0.0   \n",
       "4                           0.0                             0.0   \n",
       "\n",
       "   city_56_cat_distribution_kransnodar  city_56_cat_distribution_moscow  \\\n",
       "0                                  0.0                         0.866667   \n",
       "1                                  0.0                         0.000000   \n",
       "2                                  0.0                         0.944444   \n",
       "3                                  0.0                         0.939394   \n",
       "4                                  0.0                         0.000000   \n",
       "\n",
       "   city_56_cat_distribution_others  city_56_cat_distribution_spb  \\\n",
       "0                         0.133333                           0.0   \n",
       "1                         1.000000                           0.0   \n",
       "2                         0.055556                           0.0   \n",
       "3                         0.060606                           0.0   \n",
       "4                         0.000000                           0.0   \n",
       "\n",
       "   discount_value_56_sum  duration_sec_56_sum_with_orders  \\\n",
       "0                  112.0                            10141   \n",
       "1                   57.0                              938   \n",
       "2                   12.0                             7176   \n",
       "3                   86.0                             7054   \n",
       "4                    0.0                                0   \n",
       "\n",
       "   duration_sec_56_sum_wo_orders  is_control  ...  \\\n",
       "0                           9369        True  ...   \n",
       "1                          19152       False  ...   \n",
       "2                           6947       False  ...   \n",
       "3                           6011       False  ...   \n",
       "4                              0       False  ...   \n",
       "\n",
       "   session_part_of_local_day_56_cat_distribution_21-24  \\\n",
       "0                                           0.202381     \n",
       "1                                           0.326923     \n",
       "2                                           0.126437     \n",
       "3                                           0.103896     \n",
       "4                                           0.000000     \n",
       "\n",
       "   session_part_of_local_day_56_cat_distribution_3-6  \\\n",
       "0                                           0.000000   \n",
       "1                                           0.019231   \n",
       "2                                           0.011494   \n",
       "3                                           0.012987   \n",
       "4                                           0.000000   \n",
       "\n",
       "   session_part_of_local_day_56_cat_distribution_6-9  \\\n",
       "0                                           0.035714   \n",
       "1                                           0.057692   \n",
       "2                                           0.034483   \n",
       "3                                           0.025974   \n",
       "4                                           0.000000   \n",
       "\n",
       "   session_part_of_local_day_56_cat_distribution_9-12  \\\n",
       "0                                           0.095238    \n",
       "1                                           0.000000    \n",
       "2                                           0.229885    \n",
       "3                                           0.207792    \n",
       "4                                           0.000000    \n",
       "\n",
       "   session_with_offer_56_conversion_rate  success_orders_56_cnt  \\\n",
       "0                               0.400000                     30   \n",
       "1                               0.347826                     16   \n",
       "2                               0.507042                     36   \n",
       "3                               0.540984                     33   \n",
       "4                               0.000000                      0   \n",
       "\n",
       "   travel_distance_km_56_sum  travel_time_min_56_sum  exp_discount_value  \\\n",
       "0                    214.623                  479.35            0.000000   \n",
       "1                    156.276                  265.90           10.252258   \n",
       "2                    195.984                  377.00            0.000000   \n",
       "3                    174.685                  345.10            0.000000   \n",
       "4                      0.000                    0.00            0.000000   \n",
       "\n",
       "   exp_n_trips  \n",
       "0     5.526326  \n",
       "1     1.230271  \n",
       "2     1.000503  \n",
       "3     0.410090  \n",
       "4     0.000000  \n",
       "\n",
       "[5 rows x 58 columns]"
      ]
     },
     "execution_count": 3,
     "metadata": {},
     "output_type": "execute_result"
    }
   ],
   "source": [
    "train_df.head()"
   ]
  },
  {
   "cell_type": "markdown",
   "metadata": {},
   "source": [
    "Фичи, которые относятся к эксперименту и **не должны** быть использованы как признаки модели:   \n",
    "exp_discount_value - сумма скидок, которую получил пользователь во время экперимента   \n",
    "exp_n_trips - число поездок, которые совершил пользовать во время экперимента  \n",
    "\n",
    "is_control - был ли человек в контрольной группе во время эксперимента (в некоторых случаях можно использовать как признак) \n",
    "\n",
    "Дальше идут фичи, которые **можно** использовать как признаки модели.  \n",
    "Все фичи пользователей посчитаны за последние 56 дней перед проведением теста.\n",
    "\n",
    "**Категориальные фичи**, которые переведены в пропорции от 0 до 1 по категориям:    \n",
    "city_56_cat_distribution_* - город cовершения заказа  \n",
    "session_local_weekday_56_cat_distribution_* - сессия: день недели    \n",
    "session_local_weekend_56_cat_distribution_* - сессия: рабочий / выходной день  \n",
    "session_part_of_local_day_56_cat_distribution_* - сессия: часть дня в разбивке по 3 часа  \n",
    "order_local_weekday_56_cat_distribution_* - заказ: день недели    \n",
    "order_local_weekend_56_cat_distribution_* - заказ: рабочий / выходной день  \n",
    "order_part_of_local_day_56_cat_distribution_* - заказ: часть дня в разбивке по 3 часа  \n",
    "\n",
    "\n",
    "**Числовые фичи:**  \n",
    "discount_value_56_sum - сумма скидок  \n",
    "duration_sec_56_sum_with_orders - сумма длительности сессий пользователя, когда он в итоге сделал заказ  \n",
    "duration_sec_56_sum_wo_orders - сумма длительности сессий пользователя, когда он заказ не сделал\n",
    "last_absent_days - сколько дней пользователь не совершал заказов  \n",
    "last_absent_days_wo_sessions - сколько дней пользователь не заходил в приложение  \n",
    "missed_days_orders_56_mean - интервал между заказами в днях  \n",
    "missed_days_sessions_56_mean - интервал между сессиями в днях\n",
    "offer_cnt_56_conversion_rate - конверсия из оффера в заказ  \n",
    "offer_cnt_56_sum_with_orders - сумма офферов с заказами  \n",
    "offer_cnt_56_sum_wo_orders - сумма офферов без заказа  \n",
    "order_cost_rur_56_sum - сумма стоимости всех заказов  \n",
    "session_with_offer_56_conversion_rate - конверсия из сессии в заказ  \n",
    "success_orders_56_cnt - число всех заказов  \n",
    "travel_distance_km_56_sum - расстояние по всем заказам  \n",
    "travel_time_min_56_sum - длительность по всем заказам  "
   ]
  },
  {
   "cell_type": "markdown",
   "metadata": {
    "tags": []
   },
   "source": [
    "### Пример\n",
    "\n",
    "В качестве модели в Uplift моделировании может быть любая функция, которая позволяет ранжировать пользователей.  \n",
    "Я решил использовать одну из фичей: количество поездок за 56 дней в качестве скора."
   ]
  },
  {
   "cell_type": "code",
   "execution_count": 4,
   "metadata": {},
   "outputs": [],
   "source": [
    "train_preds = -train_df.success_orders_56_cnt.values\n",
    "test_preds = -test_df.success_orders_56_cnt.values"
   ]
  },
  {
   "cell_type": "code",
   "execution_count": 5,
   "metadata": {},
   "outputs": [],
   "source": [
    "train_metric_df = pd.DataFrame({\n",
    "    'Model': train_preds,\n",
    "    'w': ~train_df.is_control.values,\n",
    "    'y': train_df.exp_n_trips\n",
    "})\n",
    "\n",
    "test_metric_df = pd.DataFrame({\n",
    "    'Model': test_preds,\n",
    "    'w': ~test_df.is_control.values,\n",
    "    'y': test_df.exp_n_trips\n",
    "})"
   ]
  },
  {
   "cell_type": "markdown",
   "metadata": {},
   "source": [
    "### Валидация\n",
    "\n",
    "Теперь посмотрим на то, что у нас получилось.  \n",
    "Основная метрика, которая интересует бизнес - это стомость доп трипа (COT):\n",
    "$$COT = {\\overline{discount_{test}} - \\overline{disount_{control}} \\over \\overline{trips_{test}} - \\overline{trips_{control}}} $$\n",
    "Я немного переделал код из casualml, чтобы можно было посчитать эту метрику.  \n",
    "Идея такая же - можем посмотреть на график и отдельно на AUUC."
   ]
  },
  {
   "cell_type": "code",
   "execution_count": 6,
   "metadata": {},
   "outputs": [],
   "source": [
    "from utils import CostMetrics"
   ]
  },
  {
   "cell_type": "code",
   "execution_count": 7,
   "metadata": {},
   "outputs": [],
   "source": [
    "cost = CostMetrics(pd.DataFrame({\n",
    "    'Model': test_preds,\n",
    "    'w': ~test_df.is_control.values,\n",
    "    'exp_n_trips': test_df.exp_n_trips,\n",
    "    'exp_discount_value': test_df.exp_discount_value\n",
    "}))"
   ]
  },
  {
   "cell_type": "code",
   "execution_count": 8,
   "metadata": {},
   "outputs": [],
   "source": [
    "cost.get_cumlift()"
   ]
  },
  {
   "cell_type": "code",
   "execution_count": 9,
   "metadata": {},
   "outputs": [
    {
     "data": {
      "image/png": "[encoded data removed]",
      "text/plain": [
       "<Figure size 576x576 with 1 Axes>"
      ]
     },
     "metadata": {
      "needs_background": "light"
     },
     "output_type": "display_data"
    }
   ],
   "source": [
    "cost.plot()"
   ]
  },
  {
   "cell_type": "code",
   "execution_count": 10,
   "metadata": {},
   "outputs": [
    {
     "data": {
      "text/plain": [
       "Model      98.662298\n",
       "Random    174.159396\n",
       "dtype: float64"
      ]
     },
     "execution_count": 10,
     "metadata": {},
     "output_type": "execute_result"
    }
   ],
   "source": [
    "cost.auuc_score()"
   ]
  },
  {
   "cell_type": "markdown",
   "metadata": {},
   "source": [
    "### Задание 1\n",
    "\n",
    "Используйте метод трансформации таргета, чтобы показать результат не хуже, чем у такого простого решения, как ранжирование по одной фиче.  \n",
    "В качестве таргета используйте exp_n_trips.  \n",
    "Не забывайте про необходимость посмотреть на данные, почистить их и так далее."
   ]
  },
  {
   "cell_type": "code",
   "execution_count": null,
   "metadata": {},
   "outputs": [],
   "source": []
  },
  {
   "cell_type": "markdown",
   "metadata": {},
   "source": [
    "### Задание 2\n",
    "\n",
    "Предложите свой способ разбиения пользователей на 4 группы по uplift-скору.  \n",
    "То есть нужно перейти от индивидуальных значений по скору к групповым.  \n",
    "Обоснуйте свой выбор с помощью метрик и/или графиков.  "
   ]
  },
  {
   "cell_type": "code",
   "execution_count": null,
   "metadata": {},
   "outputs": [],
   "source": []
  },
  {
   "cell_type": "markdown",
   "metadata": {},
   "source": [
    "### Задание 3 - творческое\n",
    "\n",
    "Попробуйте придумать свой подход к оптимизации стоимости доп трипа.  \n",
    "Скорее всего, это потребует выйти за рамки реализованных библиотек.  \n",
    "Как возможные идеи: \n",
    "* подумать о новом критерии для сплита дерева, \n",
    "* изменить таргет для пользователя, \n",
    "* оптимизировать таргет на группе"
   ]
  },
  {
   "cell_type": "code",
   "execution_count": null,
   "metadata": {},
   "outputs": [],
   "source": []
  }
 ],
 "metadata": {
  "kernelspec": {
   "display_name": "Python 3",
   "language": "python",
   "name": "python3"
  },
  "language_info": {
   "codemirror_mode": {
    "name": "ipython",
    "version": 3
   },
   "file_extension": ".py",
   "mimetype": "text/x-python",
   "name": "python",
   "nbconvert_exporter": "python",
   "pygments_lexer": "ipython3",
   "version": "3.7.3"
  }
 },
 "nbformat": 4,
 "nbformat_minor": 4
}
