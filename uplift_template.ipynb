{
 "cells": [
  {
   "cell_type": "code",
   "execution_count": 2,
   "metadata": {},
   "outputs": [],
   "source": [
    "import warnings\n",
    "warnings.filterwarnings(\"ignore\")\n",
    "import pandas as pd\n",
    "import numpy as np"
   ]
  },
  {
   "cell_type": "code",
   "execution_count": 3,
   "metadata": {},
   "outputs": [],
   "source": [
    "# train and test are splitted by time\n",
    "train_df = pd.read_csv('train.csv')\n",
    "test_df = pd.read_csv('test.csv')"
   ]
  },
  {
   "cell_type": "markdown",
   "metadata": {
    "tags": []
   },
   "source": [
    "### Описание данных"
   ]
  },
  {
   "cell_type": "code",
   "execution_count": 4,
   "metadata": {},
   "outputs": [
    {
     "data": {
      "text/html": [
       "<div>\n",
       "<style scoped>\n",
       "    .dataframe tbody tr th:only-of-type {\n",
       "        vertical-align: middle;\n",
       "    }\n",
       "\n",
       "    .dataframe tbody tr th {\n",
       "        vertical-align: top;\n",
       "    }\n",
       "\n",
       "    .dataframe thead th {\n",
       "        text-align: right;\n",
       "    }\n",
       "</style>\n",
       "<table border=\"1\" class=\"dataframe\">\n",
       "  <thead>\n",
       "    <tr style=\"text-align: right;\">\n",
       "      <th></th>\n",
       "      <th>city_56_cat_distribution_ekb</th>\n",
       "      <th>city_56_cat_distribution_kazan</th>\n",
       "      <th>city_56_cat_distribution_kransnodar</th>\n",
       "      <th>city_56_cat_distribution_moscow</th>\n",
       "      <th>city_56_cat_distribution_others</th>\n",
       "      <th>city_56_cat_distribution_spb</th>\n",
       "      <th>discount_value_56_sum</th>\n",
       "      <th>duration_sec_56_sum_with_orders</th>\n",
       "      <th>duration_sec_56_sum_wo_orders</th>\n",
       "      <th>is_control</th>\n",
       "      <th>...</th>\n",
       "      <th>session_part_of_local_day_56_cat_distribution_21-24</th>\n",
       "      <th>session_part_of_local_day_56_cat_distribution_3-6</th>\n",
       "      <th>session_part_of_local_day_56_cat_distribution_6-9</th>\n",
       "      <th>session_part_of_local_day_56_cat_distribution_9-12</th>\n",
       "      <th>session_with_offer_56_conversion_rate</th>\n",
       "      <th>success_orders_56_cnt</th>\n",
       "      <th>travel_distance_km_56_sum</th>\n",
       "      <th>travel_time_min_56_sum</th>\n",
       "      <th>exp_discount_value</th>\n",
       "      <th>exp_n_trips</th>\n",
       "    </tr>\n",
       "  </thead>\n",
       "  <tbody>\n",
       "    <tr>\n",
       "      <th>0</th>\n",
       "      <td>0.0</td>\n",
       "      <td>0.0</td>\n",
       "      <td>0.0</td>\n",
       "      <td>0.866667</td>\n",
       "      <td>0.133333</td>\n",
       "      <td>0.0</td>\n",
       "      <td>112.0</td>\n",
       "      <td>10141</td>\n",
       "      <td>9369</td>\n",
       "      <td>True</td>\n",
       "      <td>...</td>\n",
       "      <td>0.202381</td>\n",
       "      <td>0.000000</td>\n",
       "      <td>0.035714</td>\n",
       "      <td>0.095238</td>\n",
       "      <td>0.400000</td>\n",
       "      <td>30</td>\n",
       "      <td>214.623</td>\n",
       "      <td>479.35</td>\n",
       "      <td>0.000000</td>\n",
       "      <td>5.526326</td>\n",
       "    </tr>\n",
       "    <tr>\n",
       "      <th>1</th>\n",
       "      <td>0.0</td>\n",
       "      <td>0.0</td>\n",
       "      <td>0.0</td>\n",
       "      <td>0.000000</td>\n",
       "      <td>1.000000</td>\n",
       "      <td>0.0</td>\n",
       "      <td>57.0</td>\n",
       "      <td>938</td>\n",
       "      <td>19152</td>\n",
       "      <td>False</td>\n",
       "      <td>...</td>\n",
       "      <td>0.326923</td>\n",
       "      <td>0.019231</td>\n",
       "      <td>0.057692</td>\n",
       "      <td>0.000000</td>\n",
       "      <td>0.347826</td>\n",
       "      <td>16</td>\n",
       "      <td>156.276</td>\n",
       "      <td>265.90</td>\n",
       "      <td>10.252258</td>\n",
       "      <td>1.230271</td>\n",
       "    </tr>\n",
       "    <tr>\n",
       "      <th>2</th>\n",
       "      <td>0.0</td>\n",
       "      <td>0.0</td>\n",
       "      <td>0.0</td>\n",
       "      <td>0.944444</td>\n",
       "      <td>0.055556</td>\n",
       "      <td>0.0</td>\n",
       "      <td>12.0</td>\n",
       "      <td>7176</td>\n",
       "      <td>6947</td>\n",
       "      <td>False</td>\n",
       "      <td>...</td>\n",
       "      <td>0.126437</td>\n",
       "      <td>0.011494</td>\n",
       "      <td>0.034483</td>\n",
       "      <td>0.229885</td>\n",
       "      <td>0.507042</td>\n",
       "      <td>36</td>\n",
       "      <td>195.984</td>\n",
       "      <td>377.00</td>\n",
       "      <td>0.000000</td>\n",
       "      <td>1.000503</td>\n",
       "    </tr>\n",
       "    <tr>\n",
       "      <th>3</th>\n",
       "      <td>0.0</td>\n",
       "      <td>0.0</td>\n",
       "      <td>0.0</td>\n",
       "      <td>0.939394</td>\n",
       "      <td>0.060606</td>\n",
       "      <td>0.0</td>\n",
       "      <td>86.0</td>\n",
       "      <td>7054</td>\n",
       "      <td>6011</td>\n",
       "      <td>False</td>\n",
       "      <td>...</td>\n",
       "      <td>0.103896</td>\n",
       "      <td>0.012987</td>\n",
       "      <td>0.025974</td>\n",
       "      <td>0.207792</td>\n",
       "      <td>0.540984</td>\n",
       "      <td>33</td>\n",
       "      <td>174.685</td>\n",
       "      <td>345.10</td>\n",
       "      <td>0.000000</td>\n",
       "      <td>0.410090</td>\n",
       "    </tr>\n",
       "    <tr>\n",
       "      <th>4</th>\n",
       "      <td>0.0</td>\n",
       "      <td>0.0</td>\n",
       "      <td>0.0</td>\n",
       "      <td>0.000000</td>\n",
       "      <td>0.000000</td>\n",
       "      <td>0.0</td>\n",
       "      <td>0.0</td>\n",
       "      <td>0</td>\n",
       "      <td>0</td>\n",
       "      <td>False</td>\n",
       "      <td>...</td>\n",
       "      <td>0.000000</td>\n",
       "      <td>0.000000</td>\n",
       "      <td>0.000000</td>\n",
       "      <td>0.000000</td>\n",
       "      <td>0.000000</td>\n",
       "      <td>0</td>\n",
       "      <td>0.000</td>\n",
       "      <td>0.00</td>\n",
       "      <td>0.000000</td>\n",
       "      <td>0.000000</td>\n",
       "    </tr>\n",
       "  </tbody>\n",
       "</table>\n",
       "<p>5 rows × 58 columns</p>\n",
       "</div>"
      ],
      "text/plain": [
       "   city_56_cat_distribution_ekb  city_56_cat_distribution_kazan  \\\n",
       "0                           0.0                             0.0   \n",
       "1                           0.0                             0.0   \n",
       "2                           0.0                             0.0   \n",
       "3                           0.0                             0.0   \n",
       "4                           0.0                             0.0   \n",
       "\n",
       "   city_56_cat_distribution_kransnodar  city_56_cat_distribution_moscow  \\\n",
       "0                                  0.0                         0.866667   \n",
       "1                                  0.0                         0.000000   \n",
       "2                                  0.0                         0.944444   \n",
       "3                                  0.0                         0.939394   \n",
       "4                                  0.0                         0.000000   \n",
       "\n",
       "   city_56_cat_distribution_others  city_56_cat_distribution_spb  \\\n",
       "0                         0.133333                           0.0   \n",
       "1                         1.000000                           0.0   \n",
       "2                         0.055556                           0.0   \n",
       "3                         0.060606                           0.0   \n",
       "4                         0.000000                           0.0   \n",
       "\n",
       "   discount_value_56_sum  duration_sec_56_sum_with_orders  \\\n",
       "0                  112.0                            10141   \n",
       "1                   57.0                              938   \n",
       "2                   12.0                             7176   \n",
       "3                   86.0                             7054   \n",
       "4                    0.0                                0   \n",
       "\n",
       "   duration_sec_56_sum_wo_orders  is_control  ...  \\\n",
       "0                           9369        True  ...   \n",
       "1                          19152       False  ...   \n",
       "2                           6947       False  ...   \n",
       "3                           6011       False  ...   \n",
       "4                              0       False  ...   \n",
       "\n",
       "   session_part_of_local_day_56_cat_distribution_21-24  \\\n",
       "0                                           0.202381     \n",
       "1                                           0.326923     \n",
       "2                                           0.126437     \n",
       "3                                           0.103896     \n",
       "4                                           0.000000     \n",
       "\n",
       "   session_part_of_local_day_56_cat_distribution_3-6  \\\n",
       "0                                           0.000000   \n",
       "1                                           0.019231   \n",
       "2                                           0.011494   \n",
       "3                                           0.012987   \n",
       "4                                           0.000000   \n",
       "\n",
       "   session_part_of_local_day_56_cat_distribution_6-9  \\\n",
       "0                                           0.035714   \n",
       "1                                           0.057692   \n",
       "2                                           0.034483   \n",
       "3                                           0.025974   \n",
       "4                                           0.000000   \n",
       "\n",
       "   session_part_of_local_day_56_cat_distribution_9-12  \\\n",
       "0                                           0.095238    \n",
       "1                                           0.000000    \n",
       "2                                           0.229885    \n",
       "3                                           0.207792    \n",
       "4                                           0.000000    \n",
       "\n",
       "   session_with_offer_56_conversion_rate  success_orders_56_cnt  \\\n",
       "0                               0.400000                     30   \n",
       "1                               0.347826                     16   \n",
       "2                               0.507042                     36   \n",
       "3                               0.540984                     33   \n",
       "4                               0.000000                      0   \n",
       "\n",
       "   travel_distance_km_56_sum  travel_time_min_56_sum  exp_discount_value  \\\n",
       "0                    214.623                  479.35            0.000000   \n",
       "1                    156.276                  265.90           10.252258   \n",
       "2                    195.984                  377.00            0.000000   \n",
       "3                    174.685                  345.10            0.000000   \n",
       "4                      0.000                    0.00            0.000000   \n",
       "\n",
       "   exp_n_trips  \n",
       "0     5.526326  \n",
       "1     1.230271  \n",
       "2     1.000503  \n",
       "3     0.410090  \n",
       "4     0.000000  \n",
       "\n",
       "[5 rows x 58 columns]"
      ]
     },
     "execution_count": 4,
     "metadata": {},
     "output_type": "execute_result"
    }
   ],
   "source": [
    "train_df.head()"
   ]
  },
  {
   "cell_type": "markdown",
   "metadata": {},
   "source": [
    "Фичи, которые относятся к эксперименту и **не должны** быть использованы как признаки модели:   \n",
    "exp_discount_value - сумма скидок, которую получил пользователь во время экперимента   \n",
    "exp_n_trips - число поездок, которые совершил пользовать во время экперимента  \n",
    "\n",
    "is_control - был ли человек в контрольной группе во время эксперимента (в некоторых случаях можно использовать как признак) \n",
    "\n",
    "Дальше идут фичи, которые **можно** использовать как признаки модели.  \n",
    "Все фичи пользователей посчитаны за последние 56 дней перед проведением теста.\n",
    "\n",
    "**Категориальные фичи**, которые переведены в пропорции от 0 до 1 по категориям:    \n",
    "city_56_cat_distribution_* - город cовершения заказа  \n",
    "session_local_weekday_56_cat_distribution_* - сессия: день недели    \n",
    "session_local_weekend_56_cat_distribution_* - сессия: рабочий / выходной день  \n",
    "session_part_of_local_day_56_cat_distribution_* - сессия: часть дня в разбивке по 3 часа  \n",
    "order_local_weekday_56_cat_distribution_* - заказ: день недели    \n",
    "order_local_weekend_56_cat_distribution_* - заказ: рабочий / выходной день  \n",
    "order_part_of_local_day_56_cat_distribution_* - заказ: часть дня в разбивке по 3 часа  \n",
    "\n",
    "\n",
    "**Числовые фичи:**  \n",
    "discount_value_56_sum - сумма скидок  \n",
    "duration_sec_56_sum_with_orders - сумма длительности сессий пользователя, когда он в итоге сделал заказ  \n",
    "duration_sec_56_sum_wo_orders - сумма длительности сессий пользователя, когда он заказ не сделал\n",
    "last_absent_days - сколько дней пользователь не совершал заказов  \n",
    "last_absent_days_wo_sessions - сколько дней пользователь не заходил в приложение  \n",
    "missed_days_orders_56_mean - интервал между заказами в днях  \n",
    "missed_days_sessions_56_mean - интервал между сессиями в днях\n",
    "offer_cnt_56_conversion_rate - конверсия из оффера в заказ  \n",
    "offer_cnt_56_sum_with_orders - сумма офферов с заказами  \n",
    "offer_cnt_56_sum_wo_orders - сумма офферов без заказа  \n",
    "order_cost_rur_56_sum - сумма стоимости всех заказов  \n",
    "session_with_offer_56_conversion_rate - конверсия из сессии в заказ  \n",
    "success_orders_56_cnt - число всех заказов  \n",
    "travel_distance_km_56_sum - расстояние по всем заказам  \n",
    "travel_time_min_56_sum - длительность по всем заказам  "
   ]
  },
  {
   "cell_type": "markdown",
   "metadata": {
    "tags": []
   },
   "source": [
    "### Пример\n",
    "\n",
    "В качестве модели в Uplift моделировании может быть любая функция, которая позволяет ранжировать пользователей.  \n",
    "Я решил использовать одну из фичей: количество поездок за 56 дней в качестве скора."
   ]
  },
  {
   "cell_type": "code",
   "execution_count": 5,
   "metadata": {},
   "outputs": [],
   "source": [
    "train_preds = -train_df.success_orders_56_cnt.values\n",
    "test_preds = -test_df.success_orders_56_cnt.values"
   ]
  },
  {
   "cell_type": "code",
   "execution_count": 6,
   "metadata": {},
   "outputs": [],
   "source": [
    "train_metric_df = pd.DataFrame({\n",
    "    'Model': train_preds,\n",
    "    'w': ~train_df.is_control.values,\n",
    "    'y': train_df.exp_n_trips\n",
    "})\n",
    "\n",
    "test_metric_df = pd.DataFrame({\n",
    "    'Model': test_preds,\n",
    "    'w': ~test_df.is_control.values,\n",
    "    'y': test_df.exp_n_trips\n",
    "})"
   ]
  },
  {
   "cell_type": "markdown",
   "metadata": {},
   "source": [
    "### Валидация\n",
    "\n",
    "Теперь посмотрим на то, что у нас получилось.  \n",
    "Основная метрика, которая интересует бизнес - это стомость доп трипа (COT):\n",
    "$$COT = {\\overline{discount_{test}} - \\overline{disount_{control}} \\over \\overline{trips_{test}} - \\overline{trips_{control}}} $$\n",
    "Я немного переделал код из casualml, чтобы можно было посчитать эту метрику.  \n",
    "Идея такая же - можем посмотреть на график и отдельно на AUUC."
   ]
  },
  {
   "cell_type": "code",
   "execution_count": 7,
   "metadata": {},
   "outputs": [],
   "source": [
    "from utils import CostMetrics"
   ]
  },
  {
   "cell_type": "code",
   "execution_count": 8,
   "metadata": {},
   "outputs": [],
   "source": [
    "cost = CostMetrics(pd.DataFrame({\n",
    "    'Model': test_preds,\n",
    "    'w': ~test_df.is_control.values,\n",
    "    'exp_n_trips': test_df.exp_n_trips,\n",
    "    'exp_discount_value': test_df.exp_discount_value\n",
    "}))"
   ]
  },
  {
   "cell_type": "code",
   "execution_count": 9,
   "metadata": {},
   "outputs": [
    {
     "data": {
      "text/plain": [
       "Model      98.662298\n",
       "Random    174.159396\n",
       "dtype: float64"
      ]
     },
     "execution_count": 9,
     "metadata": {},
     "output_type": "execute_result"
    },
    {
     "data": {
      "image/png": "[encoded data removed]",
      "text/plain": [
       "<Figure size 576x576 with 1 Axes>"
      ]
     },
     "metadata": {
      "needs_background": "light"
     },
     "output_type": "display_data"
    }
   ],
   "source": [
    "cost.get_cumlift()\n",
    "cost.plot()\n",
    "cost.auuc_score()"
   ]
  },
  {
   "cell_type": "code",
   "execution_count": 10,
   "metadata": {},
   "outputs": [
    {
     "data": {
      "image/png": "[encoded data removed]",
      "text/plain": [
       "<Figure size 576x576 with 1 Axes>"
      ]
     },
     "metadata": {
      "needs_background": "light"
     },
     "output_type": "display_data"
    }
   ],
   "source": [
    "cost.plot()"
   ]
  },
  {
   "cell_type": "code",
   "execution_count": 11,
   "metadata": {},
   "outputs": [
    {
     "data": {
      "text/plain": [
       "Model      98.662298\n",
       "Random    174.159396\n",
       "dtype: float64"
      ]
     },
     "execution_count": 11,
     "metadata": {},
     "output_type": "execute_result"
    }
   ],
   "source": [
    "cost.auuc_score()"
   ]
  },
  {
   "cell_type": "markdown",
   "metadata": {},
   "source": [
    "### Задание 1\n",
    "\n",
    "Используйте метод трансформации таргета, чтобы показать результат не хуже, чем у такого простого решения, как ранжирование по одной фиче.  \n",
    "В качестве таргета используйте exp_n_trips.  \n",
    "Не забывайте про необходимость посмотреть на данные, почистить их и так далее."
   ]
  },
  {
   "cell_type": "markdown",
   "metadata": {},
   "source": [
    "### Посмотрим на данные более внимательно."
   ]
  },
  {
   "cell_type": "code",
   "execution_count": 12,
   "metadata": {},
   "outputs": [],
   "source": [
    "import numpy as np\n",
    "import pandas as pd\n",
    "import seaborn as sns\n",
    "import matplotlib.pyplot as plt\n",
    "from scipy import stats"
   ]
  },
  {
   "cell_type": "code",
   "execution_count": 13,
   "metadata": {},
   "outputs": [
    {
     "data": {
      "text/html": [
       "<div>\n",
       "<style scoped>\n",
       "    .dataframe tbody tr th:only-of-type {\n",
       "        vertical-align: middle;\n",
       "    }\n",
       "\n",
       "    .dataframe tbody tr th {\n",
       "        vertical-align: top;\n",
       "    }\n",
       "\n",
       "    .dataframe thead th {\n",
       "        text-align: right;\n",
       "    }\n",
       "</style>\n",
       "<table border=\"1\" class=\"dataframe\">\n",
       "  <thead>\n",
       "    <tr style=\"text-align: right;\">\n",
       "      <th></th>\n",
       "      <th>city_56_cat_distribution_ekb</th>\n",
       "      <th>city_56_cat_distribution_kazan</th>\n",
       "      <th>city_56_cat_distribution_kransnodar</th>\n",
       "      <th>city_56_cat_distribution_moscow</th>\n",
       "      <th>city_56_cat_distribution_others</th>\n",
       "      <th>city_56_cat_distribution_spb</th>\n",
       "      <th>discount_value_56_sum</th>\n",
       "      <th>duration_sec_56_sum_with_orders</th>\n",
       "      <th>duration_sec_56_sum_wo_orders</th>\n",
       "      <th>is_control</th>\n",
       "      <th>...</th>\n",
       "      <th>session_part_of_local_day_56_cat_distribution_21-24</th>\n",
       "      <th>session_part_of_local_day_56_cat_distribution_3-6</th>\n",
       "      <th>session_part_of_local_day_56_cat_distribution_6-9</th>\n",
       "      <th>session_part_of_local_day_56_cat_distribution_9-12</th>\n",
       "      <th>session_with_offer_56_conversion_rate</th>\n",
       "      <th>success_orders_56_cnt</th>\n",
       "      <th>travel_distance_km_56_sum</th>\n",
       "      <th>travel_time_min_56_sum</th>\n",
       "      <th>exp_discount_value</th>\n",
       "      <th>exp_n_trips</th>\n",
       "    </tr>\n",
       "  </thead>\n",
       "  <tbody>\n",
       "    <tr>\n",
       "      <th>0</th>\n",
       "      <td>0.0</td>\n",
       "      <td>0.0</td>\n",
       "      <td>0.00</td>\n",
       "      <td>0.866667</td>\n",
       "      <td>0.133333</td>\n",
       "      <td>0.000000</td>\n",
       "      <td>112.0</td>\n",
       "      <td>10141</td>\n",
       "      <td>9369</td>\n",
       "      <td>True</td>\n",
       "      <td>...</td>\n",
       "      <td>0.202381</td>\n",
       "      <td>0.000000</td>\n",
       "      <td>0.035714</td>\n",
       "      <td>0.095238</td>\n",
       "      <td>0.400000</td>\n",
       "      <td>30</td>\n",
       "      <td>214.623</td>\n",
       "      <td>479.350000</td>\n",
       "      <td>0.000000</td>\n",
       "      <td>5.526326</td>\n",
       "    </tr>\n",
       "    <tr>\n",
       "      <th>1</th>\n",
       "      <td>0.0</td>\n",
       "      <td>0.0</td>\n",
       "      <td>0.00</td>\n",
       "      <td>0.000000</td>\n",
       "      <td>1.000000</td>\n",
       "      <td>0.000000</td>\n",
       "      <td>57.0</td>\n",
       "      <td>938</td>\n",
       "      <td>19152</td>\n",
       "      <td>False</td>\n",
       "      <td>...</td>\n",
       "      <td>0.326923</td>\n",
       "      <td>0.019231</td>\n",
       "      <td>0.057692</td>\n",
       "      <td>0.000000</td>\n",
       "      <td>0.347826</td>\n",
       "      <td>16</td>\n",
       "      <td>156.276</td>\n",
       "      <td>265.900000</td>\n",
       "      <td>10.252258</td>\n",
       "      <td>1.230271</td>\n",
       "    </tr>\n",
       "    <tr>\n",
       "      <th>2</th>\n",
       "      <td>0.0</td>\n",
       "      <td>0.0</td>\n",
       "      <td>0.00</td>\n",
       "      <td>0.944444</td>\n",
       "      <td>0.055556</td>\n",
       "      <td>0.000000</td>\n",
       "      <td>12.0</td>\n",
       "      <td>7176</td>\n",
       "      <td>6947</td>\n",
       "      <td>False</td>\n",
       "      <td>...</td>\n",
       "      <td>0.126437</td>\n",
       "      <td>0.011494</td>\n",
       "      <td>0.034483</td>\n",
       "      <td>0.229885</td>\n",
       "      <td>0.507042</td>\n",
       "      <td>36</td>\n",
       "      <td>195.984</td>\n",
       "      <td>377.000000</td>\n",
       "      <td>0.000000</td>\n",
       "      <td>1.000503</td>\n",
       "    </tr>\n",
       "    <tr>\n",
       "      <th>3</th>\n",
       "      <td>0.0</td>\n",
       "      <td>0.0</td>\n",
       "      <td>0.00</td>\n",
       "      <td>0.939394</td>\n",
       "      <td>0.060606</td>\n",
       "      <td>0.000000</td>\n",
       "      <td>86.0</td>\n",
       "      <td>7054</td>\n",
       "      <td>6011</td>\n",
       "      <td>False</td>\n",
       "      <td>...</td>\n",
       "      <td>0.103896</td>\n",
       "      <td>0.012987</td>\n",
       "      <td>0.025974</td>\n",
       "      <td>0.207792</td>\n",
       "      <td>0.540984</td>\n",
       "      <td>33</td>\n",
       "      <td>174.685</td>\n",
       "      <td>345.100000</td>\n",
       "      <td>0.000000</td>\n",
       "      <td>0.410090</td>\n",
       "    </tr>\n",
       "    <tr>\n",
       "      <th>4</th>\n",
       "      <td>0.0</td>\n",
       "      <td>0.0</td>\n",
       "      <td>0.00</td>\n",
       "      <td>0.000000</td>\n",
       "      <td>0.000000</td>\n",
       "      <td>0.000000</td>\n",
       "      <td>0.0</td>\n",
       "      <td>0</td>\n",
       "      <td>0</td>\n",
       "      <td>False</td>\n",
       "      <td>...</td>\n",
       "      <td>0.000000</td>\n",
       "      <td>0.000000</td>\n",
       "      <td>0.000000</td>\n",
       "      <td>0.000000</td>\n",
       "      <td>0.000000</td>\n",
       "      <td>0</td>\n",
       "      <td>0.000</td>\n",
       "      <td>0.000000</td>\n",
       "      <td>0.000000</td>\n",
       "      <td>0.000000</td>\n",
       "    </tr>\n",
       "    <tr>\n",
       "      <th>...</th>\n",
       "      <td>...</td>\n",
       "      <td>...</td>\n",
       "      <td>...</td>\n",
       "      <td>...</td>\n",
       "      <td>...</td>\n",
       "      <td>...</td>\n",
       "      <td>...</td>\n",
       "      <td>...</td>\n",
       "      <td>...</td>\n",
       "      <td>...</td>\n",
       "      <td>...</td>\n",
       "      <td>...</td>\n",
       "      <td>...</td>\n",
       "      <td>...</td>\n",
       "      <td>...</td>\n",
       "      <td>...</td>\n",
       "      <td>...</td>\n",
       "      <td>...</td>\n",
       "      <td>...</td>\n",
       "      <td>...</td>\n",
       "      <td>...</td>\n",
       "    </tr>\n",
       "    <tr>\n",
       "      <th>690574</th>\n",
       "      <td>0.0</td>\n",
       "      <td>0.0</td>\n",
       "      <td>0.00</td>\n",
       "      <td>0.000000</td>\n",
       "      <td>0.000000</td>\n",
       "      <td>0.000000</td>\n",
       "      <td>0.0</td>\n",
       "      <td>0</td>\n",
       "      <td>0</td>\n",
       "      <td>False</td>\n",
       "      <td>...</td>\n",
       "      <td>0.000000</td>\n",
       "      <td>0.000000</td>\n",
       "      <td>0.000000</td>\n",
       "      <td>0.000000</td>\n",
       "      <td>0.000000</td>\n",
       "      <td>0</td>\n",
       "      <td>0.000</td>\n",
       "      <td>0.000000</td>\n",
       "      <td>0.000000</td>\n",
       "      <td>0.000000</td>\n",
       "    </tr>\n",
       "    <tr>\n",
       "      <th>690575</th>\n",
       "      <td>0.0</td>\n",
       "      <td>0.0</td>\n",
       "      <td>0.00</td>\n",
       "      <td>0.000000</td>\n",
       "      <td>0.333333</td>\n",
       "      <td>0.666667</td>\n",
       "      <td>0.0</td>\n",
       "      <td>3141</td>\n",
       "      <td>176</td>\n",
       "      <td>False</td>\n",
       "      <td>...</td>\n",
       "      <td>0.000000</td>\n",
       "      <td>0.000000</td>\n",
       "      <td>0.125000</td>\n",
       "      <td>0.250000</td>\n",
       "      <td>0.500000</td>\n",
       "      <td>3</td>\n",
       "      <td>77.797</td>\n",
       "      <td>139.566667</td>\n",
       "      <td>0.000000</td>\n",
       "      <td>0.000000</td>\n",
       "    </tr>\n",
       "    <tr>\n",
       "      <th>690576</th>\n",
       "      <td>0.0</td>\n",
       "      <td>0.0</td>\n",
       "      <td>0.00</td>\n",
       "      <td>0.500000</td>\n",
       "      <td>0.500000</td>\n",
       "      <td>0.000000</td>\n",
       "      <td>0.0</td>\n",
       "      <td>2746</td>\n",
       "      <td>44</td>\n",
       "      <td>False</td>\n",
       "      <td>...</td>\n",
       "      <td>0.142857</td>\n",
       "      <td>0.000000</td>\n",
       "      <td>0.000000</td>\n",
       "      <td>0.000000</td>\n",
       "      <td>0.285714</td>\n",
       "      <td>2</td>\n",
       "      <td>16.008</td>\n",
       "      <td>26.600000</td>\n",
       "      <td>15.654860</td>\n",
       "      <td>0.579810</td>\n",
       "    </tr>\n",
       "    <tr>\n",
       "      <th>690577</th>\n",
       "      <td>0.0</td>\n",
       "      <td>0.0</td>\n",
       "      <td>0.00</td>\n",
       "      <td>0.000000</td>\n",
       "      <td>0.000000</td>\n",
       "      <td>1.000000</td>\n",
       "      <td>54.0</td>\n",
       "      <td>2245</td>\n",
       "      <td>1923</td>\n",
       "      <td>True</td>\n",
       "      <td>...</td>\n",
       "      <td>0.142857</td>\n",
       "      <td>0.047619</td>\n",
       "      <td>0.190476</td>\n",
       "      <td>0.190476</td>\n",
       "      <td>0.450000</td>\n",
       "      <td>9</td>\n",
       "      <td>56.613</td>\n",
       "      <td>155.416667</td>\n",
       "      <td>0.000000</td>\n",
       "      <td>1.168465</td>\n",
       "    </tr>\n",
       "    <tr>\n",
       "      <th>690578</th>\n",
       "      <td>0.0</td>\n",
       "      <td>0.0</td>\n",
       "      <td>0.96</td>\n",
       "      <td>0.000000</td>\n",
       "      <td>0.040000</td>\n",
       "      <td>0.000000</td>\n",
       "      <td>0.0</td>\n",
       "      <td>1836</td>\n",
       "      <td>3241</td>\n",
       "      <td>False</td>\n",
       "      <td>...</td>\n",
       "      <td>0.275000</td>\n",
       "      <td>0.000000</td>\n",
       "      <td>0.025000</td>\n",
       "      <td>0.275000</td>\n",
       "      <td>0.833333</td>\n",
       "      <td>25</td>\n",
       "      <td>106.086</td>\n",
       "      <td>286.966667</td>\n",
       "      <td>0.000000</td>\n",
       "      <td>0.000000</td>\n",
       "    </tr>\n",
       "  </tbody>\n",
       "</table>\n",
       "<p>690579 rows × 58 columns</p>\n",
       "</div>"
      ],
      "text/plain": [
       "        city_56_cat_distribution_ekb  city_56_cat_distribution_kazan  \\\n",
       "0                                0.0                             0.0   \n",
       "1                                0.0                             0.0   \n",
       "2                                0.0                             0.0   \n",
       "3                                0.0                             0.0   \n",
       "4                                0.0                             0.0   \n",
       "...                              ...                             ...   \n",
       "690574                           0.0                             0.0   \n",
       "690575                           0.0                             0.0   \n",
       "690576                           0.0                             0.0   \n",
       "690577                           0.0                             0.0   \n",
       "690578                           0.0                             0.0   \n",
       "\n",
       "        city_56_cat_distribution_kransnodar  city_56_cat_distribution_moscow  \\\n",
       "0                                      0.00                         0.866667   \n",
       "1                                      0.00                         0.000000   \n",
       "2                                      0.00                         0.944444   \n",
       "3                                      0.00                         0.939394   \n",
       "4                                      0.00                         0.000000   \n",
       "...                                     ...                              ...   \n",
       "690574                                 0.00                         0.000000   \n",
       "690575                                 0.00                         0.000000   \n",
       "690576                                 0.00                         0.500000   \n",
       "690577                                 0.00                         0.000000   \n",
       "690578                                 0.96                         0.000000   \n",
       "\n",
       "        city_56_cat_distribution_others  city_56_cat_distribution_spb  \\\n",
       "0                              0.133333                      0.000000   \n",
       "1                              1.000000                      0.000000   \n",
       "2                              0.055556                      0.000000   \n",
       "3                              0.060606                      0.000000   \n",
       "4                              0.000000                      0.000000   \n",
       "...                                 ...                           ...   \n",
       "690574                         0.000000                      0.000000   \n",
       "690575                         0.333333                      0.666667   \n",
       "690576                         0.500000                      0.000000   \n",
       "690577                         0.000000                      1.000000   \n",
       "690578                         0.040000                      0.000000   \n",
       "\n",
       "        discount_value_56_sum  duration_sec_56_sum_with_orders  \\\n",
       "0                       112.0                            10141   \n",
       "1                        57.0                              938   \n",
       "2                        12.0                             7176   \n",
       "3                        86.0                             7054   \n",
       "4                         0.0                                0   \n",
       "...                       ...                              ...   \n",
       "690574                    0.0                                0   \n",
       "690575                    0.0                             3141   \n",
       "690576                    0.0                             2746   \n",
       "690577                   54.0                             2245   \n",
       "690578                    0.0                             1836   \n",
       "\n",
       "        duration_sec_56_sum_wo_orders  is_control  ...  \\\n",
       "0                                9369        True  ...   \n",
       "1                               19152       False  ...   \n",
       "2                                6947       False  ...   \n",
       "3                                6011       False  ...   \n",
       "4                                   0       False  ...   \n",
       "...                               ...         ...  ...   \n",
       "690574                              0       False  ...   \n",
       "690575                            176       False  ...   \n",
       "690576                             44       False  ...   \n",
       "690577                           1923        True  ...   \n",
       "690578                           3241       False  ...   \n",
       "\n",
       "        session_part_of_local_day_56_cat_distribution_21-24  \\\n",
       "0                                                0.202381     \n",
       "1                                                0.326923     \n",
       "2                                                0.126437     \n",
       "3                                                0.103896     \n",
       "4                                                0.000000     \n",
       "...                                                   ...     \n",
       "690574                                           0.000000     \n",
       "690575                                           0.000000     \n",
       "690576                                           0.142857     \n",
       "690577                                           0.142857     \n",
       "690578                                           0.275000     \n",
       "\n",
       "        session_part_of_local_day_56_cat_distribution_3-6  \\\n",
       "0                                                0.000000   \n",
       "1                                                0.019231   \n",
       "2                                                0.011494   \n",
       "3                                                0.012987   \n",
       "4                                                0.000000   \n",
       "...                                                   ...   \n",
       "690574                                           0.000000   \n",
       "690575                                           0.000000   \n",
       "690576                                           0.000000   \n",
       "690577                                           0.047619   \n",
       "690578                                           0.000000   \n",
       "\n",
       "        session_part_of_local_day_56_cat_distribution_6-9  \\\n",
       "0                                                0.035714   \n",
       "1                                                0.057692   \n",
       "2                                                0.034483   \n",
       "3                                                0.025974   \n",
       "4                                                0.000000   \n",
       "...                                                   ...   \n",
       "690574                                           0.000000   \n",
       "690575                                           0.125000   \n",
       "690576                                           0.000000   \n",
       "690577                                           0.190476   \n",
       "690578                                           0.025000   \n",
       "\n",
       "        session_part_of_local_day_56_cat_distribution_9-12  \\\n",
       "0                                                0.095238    \n",
       "1                                                0.000000    \n",
       "2                                                0.229885    \n",
       "3                                                0.207792    \n",
       "4                                                0.000000    \n",
       "...                                                   ...    \n",
       "690574                                           0.000000    \n",
       "690575                                           0.250000    \n",
       "690576                                           0.000000    \n",
       "690577                                           0.190476    \n",
       "690578                                           0.275000    \n",
       "\n",
       "        session_with_offer_56_conversion_rate  success_orders_56_cnt  \\\n",
       "0                                    0.400000                     30   \n",
       "1                                    0.347826                     16   \n",
       "2                                    0.507042                     36   \n",
       "3                                    0.540984                     33   \n",
       "4                                    0.000000                      0   \n",
       "...                                       ...                    ...   \n",
       "690574                               0.000000                      0   \n",
       "690575                               0.500000                      3   \n",
       "690576                               0.285714                      2   \n",
       "690577                               0.450000                      9   \n",
       "690578                               0.833333                     25   \n",
       "\n",
       "        travel_distance_km_56_sum  travel_time_min_56_sum  exp_discount_value  \\\n",
       "0                         214.623              479.350000            0.000000   \n",
       "1                         156.276              265.900000           10.252258   \n",
       "2                         195.984              377.000000            0.000000   \n",
       "3                         174.685              345.100000            0.000000   \n",
       "4                           0.000                0.000000            0.000000   \n",
       "...                           ...                     ...                 ...   \n",
       "690574                      0.000                0.000000            0.000000   \n",
       "690575                     77.797              139.566667            0.000000   \n",
       "690576                     16.008               26.600000           15.654860   \n",
       "690577                     56.613              155.416667            0.000000   \n",
       "690578                    106.086              286.966667            0.000000   \n",
       "\n",
       "        exp_n_trips  \n",
       "0          5.526326  \n",
       "1          1.230271  \n",
       "2          1.000503  \n",
       "3          0.410090  \n",
       "4          0.000000  \n",
       "...             ...  \n",
       "690574     0.000000  \n",
       "690575     0.000000  \n",
       "690576     0.579810  \n",
       "690577     1.168465  \n",
       "690578     0.000000  \n",
       "\n",
       "[690579 rows x 58 columns]"
      ]
     },
     "execution_count": 13,
     "metadata": {},
     "output_type": "execute_result"
    }
   ],
   "source": [
    "train_df"
   ]
  },
  {
   "cell_type": "code",
   "execution_count": 14,
   "metadata": {},
   "outputs": [
    {
     "data": {
      "text/plain": [
       "0         5.526326\n",
       "1         1.230271\n",
       "2         1.000503\n",
       "3         0.410090\n",
       "4         0.000000\n",
       "            ...   \n",
       "690574    0.000000\n",
       "690575    0.000000\n",
       "690576    0.579810\n",
       "690577    1.168465\n",
       "690578    0.000000\n",
       "Name: exp_n_trips, Length: 690579, dtype: float64"
      ]
     },
     "execution_count": 14,
     "metadata": {},
     "output_type": "execute_result"
    }
   ],
   "source": [
    "train_df.exp_n_trips"
   ]
  },
  {
   "cell_type": "code",
   "execution_count": 15,
   "metadata": {},
   "outputs": [
    {
     "data": {
      "image/png": "[encoded data removed]",
      "text/plain": [
       "<Figure size 1008x504 with 1 Axes>"
      ]
     },
     "metadata": {
      "needs_background": "light"
     },
     "output_type": "display_data"
    }
   ],
   "source": [
    "# Задаем размер рисунка:\n",
    "f, ax = plt.subplots(figsize=(14, 7))\n",
    "plt.grid()\n",
    "x = 'exp_n_trips'\n",
    "# рисуем гистограмму:\n",
    "sns.histplot(x=x,\n",
    "             stat=\"density\",\n",
    "             bins=20,\n",
    "             fill=False,\n",
    "             data=train_df);\n",
    "\n",
    "# отмечаем каждую точку наблюдений:\n",
    "sns.rugplot(x=x,\n",
    "            data=train_df);\n",
    "\n",
    "\n",
    "# и, наконец, плотность ядра:\n",
    "sns.kdeplot(x=x,\n",
    "            data=train_df);"
   ]
  },
  {
   "cell_type": "markdown",
   "metadata": {},
   "source": [
    "Как видим целевая переменная сконцентрирована около 0, поэтому давайте посмотрим на распределение всех короме нулевых."
   ]
  },
  {
   "cell_type": "code",
   "execution_count": 16,
   "metadata": {},
   "outputs": [],
   "source": [
    "without_zero_train_df = train_df[train_df.exp_n_trips > 0]"
   ]
  },
  {
   "cell_type": "code",
   "execution_count": 17,
   "metadata": {},
   "outputs": [
    {
     "data": {
      "image/png": "[encoded data removed]",
      "text/plain": [
       "<Figure size 1008x504 with 1 Axes>"
      ]
     },
     "metadata": {
      "needs_background": "light"
     },
     "output_type": "display_data"
    }
   ],
   "source": [
    "# Задаем размер рисунка:\n",
    "f, ax = plt.subplots(figsize=(14, 7))\n",
    "plt.grid()\n",
    "x = 'exp_n_trips'\n",
    "# рисуем гистограмму:\n",
    "sns.histplot(x=x,\n",
    "             stat=\"density\",\n",
    "             bins=20,\n",
    "             fill=False,\n",
    "             data=without_zero_train_df);\n",
    "\n",
    "# отмечаем каждую точку наблюдений:\n",
    "sns.rugplot(x=x,\n",
    "            data=without_zero_train_df);\n",
    "\n",
    "\n",
    "# и, наконец, плотность ядра:\n",
    "sns.kdeplot(x=x,\n",
    "            data=without_zero_train_df);"
   ]
  },
  {
   "cell_type": "markdown",
   "metadata": {},
   "source": [
    "Заметим, что у нас есть пространство высокой плотности (где-то ``[0, 15]``), а после 15 у нас не так много , логично воспринять это как шум (не выброс!)"
   ]
  },
  {
   "cell_type": "code",
   "execution_count": 18,
   "metadata": {},
   "outputs": [],
   "source": [
    "new_train_df = without_zero_train_df[without_zero_train_df.exp_n_trips < 15]"
   ]
  },
  {
   "cell_type": "code",
   "execution_count": 19,
   "metadata": {},
   "outputs": [
    {
     "data": {
      "image/png": "[encoded data removed]",
      "text/plain": [
       "<Figure size 1008x504 with 1 Axes>"
      ]
     },
     "metadata": {
      "needs_background": "light"
     },
     "output_type": "display_data"
    }
   ],
   "source": [
    "# Задаем размер рисунка:\n",
    "f, ax = plt.subplots(figsize=(14, 7))\n",
    "plt.grid()\n",
    "x = 'exp_n_trips'\n",
    "# рисуем гистограмму:\n",
    "sns.histplot(x=x,\n",
    "             stat=\"density\",\n",
    "             bins=20,\n",
    "             fill=False,\n",
    "             data=new_train_df);\n",
    "\n",
    "# отмечаем каждую точку наблюдений:\n",
    "sns.rugplot(x=x,\n",
    "            data=new_train_df);\n",
    "\n",
    "\n",
    "# и, наконец, плотность ядра:\n",
    "sns.kdeplot(x=x,\n",
    "            data=new_train_df);"
   ]
  },
  {
   "cell_type": "markdown",
   "metadata": {},
   "source": [
    "Уменьшив масштаб, можно заметить, что вес хвостов небольшой, поэтому оставим только до 5."
   ]
  },
  {
   "cell_type": "code",
   "execution_count": 20,
   "metadata": {},
   "outputs": [
    {
     "data": {
      "image/png": "[encoded data removed]",
      "text/plain": [
       "<Figure size 1008x504 with 1 Axes>"
      ]
     },
     "metadata": {
      "needs_background": "light"
     },
     "output_type": "display_data"
    }
   ],
   "source": [
    "new_train_df = without_zero_train_df[without_zero_train_df.exp_n_trips < 5]\n",
    "\n",
    "# Задаем размер рисунка:\n",
    "f, ax = plt.subplots(figsize=(14, 7))\n",
    "plt.grid()\n",
    "x = 'exp_n_trips'\n",
    "# рисуем гистограмму:\n",
    "sns.histplot(x=x,\n",
    "             stat=\"density\",\n",
    "             bins=20,\n",
    "             fill=False,\n",
    "             data=new_train_df);\n",
    "\n",
    "# отмечаем каждую точку наблюдений:\n",
    "sns.rugplot(x=x,\n",
    "            data=new_train_df);\n",
    "\n",
    "\n",
    "# и, наконец, плотность ядра:\n",
    "sns.kdeplot(x=x,\n",
    "            data=new_train_df);"
   ]
  },
  {
   "cell_type": "code",
   "execution_count": 21,
   "metadata": {},
   "outputs": [
    {
     "data": {
      "text/html": [
       "<div>\n",
       "<style scoped>\n",
       "    .dataframe tbody tr th:only-of-type {\n",
       "        vertical-align: middle;\n",
       "    }\n",
       "\n",
       "    .dataframe tbody tr th {\n",
       "        vertical-align: top;\n",
       "    }\n",
       "\n",
       "    .dataframe thead th {\n",
       "        text-align: right;\n",
       "    }\n",
       "</style>\n",
       "<table border=\"1\" class=\"dataframe\">\n",
       "  <thead>\n",
       "    <tr style=\"text-align: right;\">\n",
       "      <th></th>\n",
       "      <th>city_56_cat_distribution_ekb</th>\n",
       "      <th>city_56_cat_distribution_kazan</th>\n",
       "      <th>city_56_cat_distribution_kransnodar</th>\n",
       "      <th>city_56_cat_distribution_moscow</th>\n",
       "      <th>city_56_cat_distribution_others</th>\n",
       "      <th>city_56_cat_distribution_spb</th>\n",
       "      <th>discount_value_56_sum</th>\n",
       "      <th>duration_sec_56_sum_with_orders</th>\n",
       "      <th>duration_sec_56_sum_wo_orders</th>\n",
       "      <th>is_control</th>\n",
       "      <th>...</th>\n",
       "      <th>session_part_of_local_day_56_cat_distribution_21-24</th>\n",
       "      <th>session_part_of_local_day_56_cat_distribution_3-6</th>\n",
       "      <th>session_part_of_local_day_56_cat_distribution_6-9</th>\n",
       "      <th>session_part_of_local_day_56_cat_distribution_9-12</th>\n",
       "      <th>session_with_offer_56_conversion_rate</th>\n",
       "      <th>success_orders_56_cnt</th>\n",
       "      <th>travel_distance_km_56_sum</th>\n",
       "      <th>travel_time_min_56_sum</th>\n",
       "      <th>exp_discount_value</th>\n",
       "      <th>exp_n_trips</th>\n",
       "    </tr>\n",
       "  </thead>\n",
       "  <tbody>\n",
       "    <tr>\n",
       "      <th>1</th>\n",
       "      <td>0.0</td>\n",
       "      <td>0.0</td>\n",
       "      <td>0.0</td>\n",
       "      <td>0.000000</td>\n",
       "      <td>1.000000</td>\n",
       "      <td>0.0</td>\n",
       "      <td>57.0</td>\n",
       "      <td>938</td>\n",
       "      <td>19152</td>\n",
       "      <td>False</td>\n",
       "      <td>...</td>\n",
       "      <td>0.326923</td>\n",
       "      <td>0.019231</td>\n",
       "      <td>0.057692</td>\n",
       "      <td>0.000000</td>\n",
       "      <td>0.347826</td>\n",
       "      <td>16</td>\n",
       "      <td>156.276</td>\n",
       "      <td>265.900000</td>\n",
       "      <td>10.252258</td>\n",
       "      <td>1.230271</td>\n",
       "    </tr>\n",
       "    <tr>\n",
       "      <th>2</th>\n",
       "      <td>0.0</td>\n",
       "      <td>0.0</td>\n",
       "      <td>0.0</td>\n",
       "      <td>0.944444</td>\n",
       "      <td>0.055556</td>\n",
       "      <td>0.0</td>\n",
       "      <td>12.0</td>\n",
       "      <td>7176</td>\n",
       "      <td>6947</td>\n",
       "      <td>False</td>\n",
       "      <td>...</td>\n",
       "      <td>0.126437</td>\n",
       "      <td>0.011494</td>\n",
       "      <td>0.034483</td>\n",
       "      <td>0.229885</td>\n",
       "      <td>0.507042</td>\n",
       "      <td>36</td>\n",
       "      <td>195.984</td>\n",
       "      <td>377.000000</td>\n",
       "      <td>0.000000</td>\n",
       "      <td>1.000503</td>\n",
       "    </tr>\n",
       "    <tr>\n",
       "      <th>3</th>\n",
       "      <td>0.0</td>\n",
       "      <td>0.0</td>\n",
       "      <td>0.0</td>\n",
       "      <td>0.939394</td>\n",
       "      <td>0.060606</td>\n",
       "      <td>0.0</td>\n",
       "      <td>86.0</td>\n",
       "      <td>7054</td>\n",
       "      <td>6011</td>\n",
       "      <td>False</td>\n",
       "      <td>...</td>\n",
       "      <td>0.103896</td>\n",
       "      <td>0.012987</td>\n",
       "      <td>0.025974</td>\n",
       "      <td>0.207792</td>\n",
       "      <td>0.540984</td>\n",
       "      <td>33</td>\n",
       "      <td>174.685</td>\n",
       "      <td>345.100000</td>\n",
       "      <td>0.000000</td>\n",
       "      <td>0.410090</td>\n",
       "    </tr>\n",
       "    <tr>\n",
       "      <th>5</th>\n",
       "      <td>0.0</td>\n",
       "      <td>0.0</td>\n",
       "      <td>0.0</td>\n",
       "      <td>0.363636</td>\n",
       "      <td>0.636364</td>\n",
       "      <td>0.0</td>\n",
       "      <td>0.0</td>\n",
       "      <td>5742</td>\n",
       "      <td>6743</td>\n",
       "      <td>True</td>\n",
       "      <td>...</td>\n",
       "      <td>0.363636</td>\n",
       "      <td>0.000000</td>\n",
       "      <td>0.000000</td>\n",
       "      <td>0.060606</td>\n",
       "      <td>0.379310</td>\n",
       "      <td>11</td>\n",
       "      <td>80.537</td>\n",
       "      <td>131.133333</td>\n",
       "      <td>0.000000</td>\n",
       "      <td>1.584273</td>\n",
       "    </tr>\n",
       "    <tr>\n",
       "      <th>9</th>\n",
       "      <td>0.0</td>\n",
       "      <td>0.0</td>\n",
       "      <td>0.0</td>\n",
       "      <td>0.000000</td>\n",
       "      <td>0.900000</td>\n",
       "      <td>0.1</td>\n",
       "      <td>0.0</td>\n",
       "      <td>3830</td>\n",
       "      <td>15378</td>\n",
       "      <td>False</td>\n",
       "      <td>...</td>\n",
       "      <td>0.160714</td>\n",
       "      <td>0.000000</td>\n",
       "      <td>0.125000</td>\n",
       "      <td>0.035714</td>\n",
       "      <td>0.204082</td>\n",
       "      <td>10</td>\n",
       "      <td>54.301</td>\n",
       "      <td>130.650000</td>\n",
       "      <td>56.369372</td>\n",
       "      <td>4.336106</td>\n",
       "    </tr>\n",
       "    <tr>\n",
       "      <th>...</th>\n",
       "      <td>...</td>\n",
       "      <td>...</td>\n",
       "      <td>...</td>\n",
       "      <td>...</td>\n",
       "      <td>...</td>\n",
       "      <td>...</td>\n",
       "      <td>...</td>\n",
       "      <td>...</td>\n",
       "      <td>...</td>\n",
       "      <td>...</td>\n",
       "      <td>...</td>\n",
       "      <td>...</td>\n",
       "      <td>...</td>\n",
       "      <td>...</td>\n",
       "      <td>...</td>\n",
       "      <td>...</td>\n",
       "      <td>...</td>\n",
       "      <td>...</td>\n",
       "      <td>...</td>\n",
       "      <td>...</td>\n",
       "      <td>...</td>\n",
       "    </tr>\n",
       "    <tr>\n",
       "      <th>690567</th>\n",
       "      <td>0.0</td>\n",
       "      <td>0.0</td>\n",
       "      <td>0.0</td>\n",
       "      <td>0.000000</td>\n",
       "      <td>1.000000</td>\n",
       "      <td>0.0</td>\n",
       "      <td>25.0</td>\n",
       "      <td>28874</td>\n",
       "      <td>9426</td>\n",
       "      <td>False</td>\n",
       "      <td>...</td>\n",
       "      <td>0.065789</td>\n",
       "      <td>0.000000</td>\n",
       "      <td>0.131579</td>\n",
       "      <td>0.171053</td>\n",
       "      <td>0.565217</td>\n",
       "      <td>39</td>\n",
       "      <td>363.596</td>\n",
       "      <td>734.250000</td>\n",
       "      <td>30.346685</td>\n",
       "      <td>1.640361</td>\n",
       "    </tr>\n",
       "    <tr>\n",
       "      <th>690569</th>\n",
       "      <td>0.0</td>\n",
       "      <td>1.0</td>\n",
       "      <td>0.0</td>\n",
       "      <td>0.000000</td>\n",
       "      <td>0.000000</td>\n",
       "      <td>0.0</td>\n",
       "      <td>83.0</td>\n",
       "      <td>374</td>\n",
       "      <td>978</td>\n",
       "      <td>False</td>\n",
       "      <td>...</td>\n",
       "      <td>0.000000</td>\n",
       "      <td>0.000000</td>\n",
       "      <td>0.111111</td>\n",
       "      <td>0.111111</td>\n",
       "      <td>0.857143</td>\n",
       "      <td>6</td>\n",
       "      <td>121.173</td>\n",
       "      <td>140.083333</td>\n",
       "      <td>15.431243</td>\n",
       "      <td>1.102232</td>\n",
       "    </tr>\n",
       "    <tr>\n",
       "      <th>690572</th>\n",
       "      <td>0.0</td>\n",
       "      <td>0.0</td>\n",
       "      <td>0.0</td>\n",
       "      <td>0.181818</td>\n",
       "      <td>0.818182</td>\n",
       "      <td>0.0</td>\n",
       "      <td>0.0</td>\n",
       "      <td>5876</td>\n",
       "      <td>3542</td>\n",
       "      <td>False</td>\n",
       "      <td>...</td>\n",
       "      <td>0.285714</td>\n",
       "      <td>0.095238</td>\n",
       "      <td>0.142857</td>\n",
       "      <td>0.071429</td>\n",
       "      <td>0.709677</td>\n",
       "      <td>22</td>\n",
       "      <td>252.467</td>\n",
       "      <td>400.216667</td>\n",
       "      <td>52.968493</td>\n",
       "      <td>1.914524</td>\n",
       "    </tr>\n",
       "    <tr>\n",
       "      <th>690576</th>\n",
       "      <td>0.0</td>\n",
       "      <td>0.0</td>\n",
       "      <td>0.0</td>\n",
       "      <td>0.500000</td>\n",
       "      <td>0.500000</td>\n",
       "      <td>0.0</td>\n",
       "      <td>0.0</td>\n",
       "      <td>2746</td>\n",
       "      <td>44</td>\n",
       "      <td>False</td>\n",
       "      <td>...</td>\n",
       "      <td>0.142857</td>\n",
       "      <td>0.000000</td>\n",
       "      <td>0.000000</td>\n",
       "      <td>0.000000</td>\n",
       "      <td>0.285714</td>\n",
       "      <td>2</td>\n",
       "      <td>16.008</td>\n",
       "      <td>26.600000</td>\n",
       "      <td>15.654860</td>\n",
       "      <td>0.579810</td>\n",
       "    </tr>\n",
       "    <tr>\n",
       "      <th>690577</th>\n",
       "      <td>0.0</td>\n",
       "      <td>0.0</td>\n",
       "      <td>0.0</td>\n",
       "      <td>0.000000</td>\n",
       "      <td>0.000000</td>\n",
       "      <td>1.0</td>\n",
       "      <td>54.0</td>\n",
       "      <td>2245</td>\n",
       "      <td>1923</td>\n",
       "      <td>True</td>\n",
       "      <td>...</td>\n",
       "      <td>0.142857</td>\n",
       "      <td>0.047619</td>\n",
       "      <td>0.190476</td>\n",
       "      <td>0.190476</td>\n",
       "      <td>0.450000</td>\n",
       "      <td>9</td>\n",
       "      <td>56.613</td>\n",
       "      <td>155.416667</td>\n",
       "      <td>0.000000</td>\n",
       "      <td>1.168465</td>\n",
       "    </tr>\n",
       "  </tbody>\n",
       "</table>\n",
       "<p>249672 rows × 58 columns</p>\n",
       "</div>"
      ],
      "text/plain": [
       "        city_56_cat_distribution_ekb  city_56_cat_distribution_kazan  \\\n",
       "1                                0.0                             0.0   \n",
       "2                                0.0                             0.0   \n",
       "3                                0.0                             0.0   \n",
       "5                                0.0                             0.0   \n",
       "9                                0.0                             0.0   \n",
       "...                              ...                             ...   \n",
       "690567                           0.0                             0.0   \n",
       "690569                           0.0                             1.0   \n",
       "690572                           0.0                             0.0   \n",
       "690576                           0.0                             0.0   \n",
       "690577                           0.0                             0.0   \n",
       "\n",
       "        city_56_cat_distribution_kransnodar  city_56_cat_distribution_moscow  \\\n",
       "1                                       0.0                         0.000000   \n",
       "2                                       0.0                         0.944444   \n",
       "3                                       0.0                         0.939394   \n",
       "5                                       0.0                         0.363636   \n",
       "9                                       0.0                         0.000000   \n",
       "...                                     ...                              ...   \n",
       "690567                                  0.0                         0.000000   \n",
       "690569                                  0.0                         0.000000   \n",
       "690572                                  0.0                         0.181818   \n",
       "690576                                  0.0                         0.500000   \n",
       "690577                                  0.0                         0.000000   \n",
       "\n",
       "        city_56_cat_distribution_others  city_56_cat_distribution_spb  \\\n",
       "1                              1.000000                           0.0   \n",
       "2                              0.055556                           0.0   \n",
       "3                              0.060606                           0.0   \n",
       "5                              0.636364                           0.0   \n",
       "9                              0.900000                           0.1   \n",
       "...                                 ...                           ...   \n",
       "690567                         1.000000                           0.0   \n",
       "690569                         0.000000                           0.0   \n",
       "690572                         0.818182                           0.0   \n",
       "690576                         0.500000                           0.0   \n",
       "690577                         0.000000                           1.0   \n",
       "\n",
       "        discount_value_56_sum  duration_sec_56_sum_with_orders  \\\n",
       "1                        57.0                              938   \n",
       "2                        12.0                             7176   \n",
       "3                        86.0                             7054   \n",
       "5                         0.0                             5742   \n",
       "9                         0.0                             3830   \n",
       "...                       ...                              ...   \n",
       "690567                   25.0                            28874   \n",
       "690569                   83.0                              374   \n",
       "690572                    0.0                             5876   \n",
       "690576                    0.0                             2746   \n",
       "690577                   54.0                             2245   \n",
       "\n",
       "        duration_sec_56_sum_wo_orders  is_control  ...  \\\n",
       "1                               19152       False  ...   \n",
       "2                                6947       False  ...   \n",
       "3                                6011       False  ...   \n",
       "5                                6743        True  ...   \n",
       "9                               15378       False  ...   \n",
       "...                               ...         ...  ...   \n",
       "690567                           9426       False  ...   \n",
       "690569                            978       False  ...   \n",
       "690572                           3542       False  ...   \n",
       "690576                             44       False  ...   \n",
       "690577                           1923        True  ...   \n",
       "\n",
       "        session_part_of_local_day_56_cat_distribution_21-24  \\\n",
       "1                                                0.326923     \n",
       "2                                                0.126437     \n",
       "3                                                0.103896     \n",
       "5                                                0.363636     \n",
       "9                                                0.160714     \n",
       "...                                                   ...     \n",
       "690567                                           0.065789     \n",
       "690569                                           0.000000     \n",
       "690572                                           0.285714     \n",
       "690576                                           0.142857     \n",
       "690577                                           0.142857     \n",
       "\n",
       "        session_part_of_local_day_56_cat_distribution_3-6  \\\n",
       "1                                                0.019231   \n",
       "2                                                0.011494   \n",
       "3                                                0.012987   \n",
       "5                                                0.000000   \n",
       "9                                                0.000000   \n",
       "...                                                   ...   \n",
       "690567                                           0.000000   \n",
       "690569                                           0.000000   \n",
       "690572                                           0.095238   \n",
       "690576                                           0.000000   \n",
       "690577                                           0.047619   \n",
       "\n",
       "        session_part_of_local_day_56_cat_distribution_6-9  \\\n",
       "1                                                0.057692   \n",
       "2                                                0.034483   \n",
       "3                                                0.025974   \n",
       "5                                                0.000000   \n",
       "9                                                0.125000   \n",
       "...                                                   ...   \n",
       "690567                                           0.131579   \n",
       "690569                                           0.111111   \n",
       "690572                                           0.142857   \n",
       "690576                                           0.000000   \n",
       "690577                                           0.190476   \n",
       "\n",
       "        session_part_of_local_day_56_cat_distribution_9-12  \\\n",
       "1                                                0.000000    \n",
       "2                                                0.229885    \n",
       "3                                                0.207792    \n",
       "5                                                0.060606    \n",
       "9                                                0.035714    \n",
       "...                                                   ...    \n",
       "690567                                           0.171053    \n",
       "690569                                           0.111111    \n",
       "690572                                           0.071429    \n",
       "690576                                           0.000000    \n",
       "690577                                           0.190476    \n",
       "\n",
       "        session_with_offer_56_conversion_rate  success_orders_56_cnt  \\\n",
       "1                                    0.347826                     16   \n",
       "2                                    0.507042                     36   \n",
       "3                                    0.540984                     33   \n",
       "5                                    0.379310                     11   \n",
       "9                                    0.204082                     10   \n",
       "...                                       ...                    ...   \n",
       "690567                               0.565217                     39   \n",
       "690569                               0.857143                      6   \n",
       "690572                               0.709677                     22   \n",
       "690576                               0.285714                      2   \n",
       "690577                               0.450000                      9   \n",
       "\n",
       "        travel_distance_km_56_sum  travel_time_min_56_sum  exp_discount_value  \\\n",
       "1                         156.276              265.900000           10.252258   \n",
       "2                         195.984              377.000000            0.000000   \n",
       "3                         174.685              345.100000            0.000000   \n",
       "5                          80.537              131.133333            0.000000   \n",
       "9                          54.301              130.650000           56.369372   \n",
       "...                           ...                     ...                 ...   \n",
       "690567                    363.596              734.250000           30.346685   \n",
       "690569                    121.173              140.083333           15.431243   \n",
       "690572                    252.467              400.216667           52.968493   \n",
       "690576                     16.008               26.600000           15.654860   \n",
       "690577                     56.613              155.416667            0.000000   \n",
       "\n",
       "        exp_n_trips  \n",
       "1          1.230271  \n",
       "2          1.000503  \n",
       "3          0.410090  \n",
       "5          1.584273  \n",
       "9          4.336106  \n",
       "...             ...  \n",
       "690567     1.640361  \n",
       "690569     1.102232  \n",
       "690572     1.914524  \n",
       "690576     0.579810  \n",
       "690577     1.168465  \n",
       "\n",
       "[249672 rows x 58 columns]"
      ]
     },
     "execution_count": 21,
     "metadata": {},
     "output_type": "execute_result"
    }
   ],
   "source": [
    "new_train_df"
   ]
  },
  {
   "cell_type": "code",
   "execution_count": 22,
   "metadata": {},
   "outputs": [
    {
     "data": {
      "text/plain": [
       "(249672, 58)"
      ]
     },
     "execution_count": 22,
     "metadata": {},
     "output_type": "execute_result"
    }
   ],
   "source": [
    "new_train_df.shape"
   ]
  },
  {
   "cell_type": "markdown",
   "metadata": {},
   "source": [
    "Теперь можно посмотреть на распределение по городам. Сделаем признак, который будет соответствовать городу, в котором человек заказал больше всего такси."
   ]
  },
  {
   "cell_type": "code",
   "execution_count": 23,
   "metadata": {},
   "outputs": [],
   "source": [
    "ekb = 'city_56_cat_distribution_ekb'\n",
    "kazan = 'city_56_cat_distribution_kazan'\n",
    "kransnodar = 'city_56_cat_distribution_kransnodar'\n",
    "moscow = 'city_56_cat_distribution_moscow'\n",
    "other = 'city_56_cat_distribution_others'\n",
    "spb = 'city_56_cat_distribution_spb'\n",
    "cities = ['ekb', 'kazan','krasnodar', 'moscow', 'other', 'spb']\n",
    "\n",
    "def my_argmax(lst):\n",
    "    return lst.index(max(lst))"
   ]
  },
  {
   "cell_type": "code",
   "execution_count": 24,
   "metadata": {},
   "outputs": [],
   "source": [
    "from tqdm import tqdm\n",
    "\n",
    "new_train_df['city'] = np.zeros(new_train_df.shape[0])"
   ]
  },
  {
   "cell_type": "code",
   "execution_count": 25,
   "metadata": {},
   "outputs": [
    {
     "name": "stderr",
     "output_type": "stream",
     "text": [
      "249672it [09:08, 455.49it/s]\n"
     ]
    }
   ],
   "source": [
    "for index, row in tqdm(new_train_df.iterrows()):\n",
    "    new_train_df.loc[index, 'city'] = cities[my_argmax([row[ekb], row[kazan], row[kransnodar], row[moscow], row[other], row[spb]])]"
   ]
  },
  {
   "cell_type": "code",
   "execution_count": 26,
   "metadata": {},
   "outputs": [
    {
     "data": {
      "text/plain": [
       "1          other\n",
       "2         moscow\n",
       "3         moscow\n",
       "5          other\n",
       "9          other\n",
       "           ...  \n",
       "690567     other\n",
       "690569     kazan\n",
       "690572     other\n",
       "690576    moscow\n",
       "690577       spb\n",
       "Name: city, Length: 249672, dtype: object"
      ]
     },
     "execution_count": 26,
     "metadata": {},
     "output_type": "execute_result"
    }
   ],
   "source": [
    "new_train_df[\"city\"]"
   ]
  },
  {
   "cell_type": "code",
   "execution_count": 27,
   "metadata": {},
   "outputs": [
    {
     "data": {
      "image/png": "[encoded data removed]",
      "text/plain": [
       "<Figure size 1440x720 with 1 Axes>"
      ]
     },
     "metadata": {
      "needs_background": "light"
     },
     "output_type": "display_data"
    }
   ],
   "source": [
    "f, ax = plt.subplots(figsize=(20, 10))\n",
    "sns.boxplot(x=\"city\", y=\"exp_n_trips\", hue=\"is_control\", data=new_train_df, palette=\"Set3\");"
   ]
  },
  {
   "cell_type": "markdown",
   "metadata": {},
   "source": [
    "Информативный график получился.\n",
    "- Во-первых, распределение на тестовую и контрольную группу -- хорошее, везде примерно одинаковые распределения по городам.\n",
    "- Во-вторых, очень много людей не попадают в 0.75 квантиль, что логично т.к. есть постоянные пользователи Я.такси.\n",
    "- В-третьих, в Екб в среднем на Яндекс такси ездят меньше, чем в других городах России. Стоит понять, почему  люди из Екб ездят редко всреднем (меньше 3 раз на человека за 56 дней), а в других больше 3 раз."
   ]
  },
  {
   "cell_type": "markdown",
   "metadata": {},
   "source": [
    "И да посмотрим, может быть где-то есть пропуски..."
   ]
  },
  {
   "cell_type": "code",
   "execution_count": 28,
   "metadata": {},
   "outputs": [
    {
     "data": {
      "text/plain": [
       "city_56_cat_distribution_ekb                           False\n",
       "city_56_cat_distribution_kazan                         False\n",
       "city_56_cat_distribution_kransnodar                    False\n",
       "city_56_cat_distribution_moscow                        False\n",
       "city_56_cat_distribution_others                        False\n",
       "city_56_cat_distribution_spb                           False\n",
       "discount_value_56_sum                                  False\n",
       "duration_sec_56_sum_with_orders                        False\n",
       "duration_sec_56_sum_wo_orders                          False\n",
       "is_control                                             False\n",
       "last_absent_days                                       False\n",
       "last_absent_days_wo_sessions                           False\n",
       "missed_days_orders_56_mean                             False\n",
       "missed_days_sessions_56_mean                           False\n",
       "offer_cnt_56_conversion_rate                           False\n",
       "offer_cnt_56_sum_with_orders                           False\n",
       "offer_cnt_56_sum_wo_orders                             False\n",
       "order_cost_rur_56_sum                                  False\n",
       "order_local_weekday_56_cat_distribution_Fri            False\n",
       "order_local_weekday_56_cat_distribution_Mon            False\n",
       "order_local_weekday_56_cat_distribution_Sat            False\n",
       "order_local_weekday_56_cat_distribution_Sun            False\n",
       "order_local_weekday_56_cat_distribution_Thu            False\n",
       "order_local_weekday_56_cat_distribution_Tue            False\n",
       "order_local_weekday_56_cat_distribution_Wed            False\n",
       "order_local_weekend_56_cat_distribution_weekend        False\n",
       "order_local_weekend_56_cat_distribution_workday        False\n",
       "order_part_of_local_day_56_cat_distribution_0-3        False\n",
       "order_part_of_local_day_56_cat_distribution_12-15      False\n",
       "order_part_of_local_day_56_cat_distribution_15-18      False\n",
       "order_part_of_local_day_56_cat_distribution_18-21      False\n",
       "order_part_of_local_day_56_cat_distribution_21-24      False\n",
       "order_part_of_local_day_56_cat_distribution_3-6        False\n",
       "order_part_of_local_day_56_cat_distribution_6-9        False\n",
       "order_part_of_local_day_56_cat_distribution_9-12       False\n",
       "session_local_weekday_56_cat_distribution_Fri          False\n",
       "session_local_weekday_56_cat_distribution_Mon          False\n",
       "session_local_weekday_56_cat_distribution_Sat          False\n",
       "session_local_weekday_56_cat_distribution_Sun          False\n",
       "session_local_weekday_56_cat_distribution_Thu          False\n",
       "session_local_weekday_56_cat_distribution_Tue          False\n",
       "session_local_weekday_56_cat_distribution_Wed          False\n",
       "session_local_weekend_56_cat_distribution_weekend      False\n",
       "session_local_weekend_56_cat_distribution_workday      False\n",
       "session_part_of_local_day_56_cat_distribution_0-3      False\n",
       "session_part_of_local_day_56_cat_distribution_12-15    False\n",
       "session_part_of_local_day_56_cat_distribution_15-18    False\n",
       "session_part_of_local_day_56_cat_distribution_18-21    False\n",
       "session_part_of_local_day_56_cat_distribution_21-24    False\n",
       "session_part_of_local_day_56_cat_distribution_3-6      False\n",
       "session_part_of_local_day_56_cat_distribution_6-9      False\n",
       "session_part_of_local_day_56_cat_distribution_9-12     False\n",
       "session_with_offer_56_conversion_rate                  False\n",
       "success_orders_56_cnt                                  False\n",
       "travel_distance_km_56_sum                              False\n",
       "travel_time_min_56_sum                                 False\n",
       "exp_discount_value                                     False\n",
       "exp_n_trips                                            False\n",
       "city                                                   False\n",
       "dtype: bool"
      ]
     },
     "execution_count": 28,
     "metadata": {},
     "output_type": "execute_result"
    }
   ],
   "source": [
    "new_train_df.isna().any()"
   ]
  },
  {
   "cell_type": "markdown",
   "metadata": {},
   "source": [
    "Стоило сделать это раньше, но мне повезло и пропусков нет. Так пришлось бы обучать catboost."
   ]
  },
  {
   "cell_type": "markdown",
   "metadata": {},
   "source": [
    "Сделаем трансформацию таргета."
   ]
  },
  {
   "cell_type": "markdown",
   "metadata": {},
   "source": [
    "$$Z_i = Y_i\\frac{W_i - p_i}{p_i(1-p_i)}$$"
   ]
  },
  {
   "cell_type": "code",
   "execution_count": 29,
   "metadata": {},
   "outputs": [
    {
     "name": "stdout",
     "output_type": "stream",
     "text": [
      "Сейчас тест и контроль не по 0.5\n",
      "Отношения тестовой выборки к контрольной 0.807102919029767\n"
     ]
    }
   ],
   "source": [
    "p = new_train_df.is_control.sum() / new_train_df.shape[0]\n",
    "print(\"Сейчас тест и контроль не по 0.5\")\n",
    "print(\"Отношения тестовой выборки к контрольной\", 1 - p)"
   ]
  },
  {
   "cell_type": "markdown",
   "metadata": {},
   "source": [
    "То есть тестовых данных больше, чем контрольных, поэтому давайте обучим модель, которая будет предсказывать вероятность $p_i$, что семпл принадлежит тестовой выборки."
   ]
  },
  {
   "cell_type": "code",
   "execution_count": 30,
   "metadata": {},
   "outputs": [],
   "source": [
    "new_train_df.city = pd.factorize(new_train_df.city)[0]\n",
    "cols = [\"exp_n_trips\", \"exp_discount_value\", \"is_control\"]\n",
    "X = new_train_df.loc[:, ~new_train_df.columns.isin(cols)]\n",
    "y = new_train_df.is_control.astype(int)\n",
    "\n"
   ]
  },
  {
   "cell_type": "code",
   "execution_count": 31,
   "metadata": {},
   "outputs": [
    {
     "data": {
      "text/plain": [
       "<catboost.core.CatBoostClassifier at 0x7ff110e41b50>"
      ]
     },
     "execution_count": 31,
     "metadata": {},
     "output_type": "execute_result"
    }
   ],
   "source": [
    "from catboost import CatBoostClassifier\n",
    "\n",
    "model = CatBoostClassifier(iterations=2000, learning_rate=0.01, depth=4)\n",
    "model.fit(X, y, silent=True)"
   ]
  },
  {
   "cell_type": "markdown",
   "metadata": {},
   "source": [
    "Сделаем трансформацию таргета."
   ]
  },
  {
   "cell_type": "code",
   "execution_count": 38,
   "metadata": {},
   "outputs": [],
   "source": [
    "p = model.predict_proba(X)[:, 1]\n",
    "W = 1 - y\n",
    "Y = new_train_df.exp_n_trips\n",
    "\n",
    "Z = Y * (W - p) / (p * (1 - p))"
   ]
  },
  {
   "cell_type": "code",
   "execution_count": 39,
   "metadata": {},
   "outputs": [
    {
     "data": {
      "text/plain": [
       "1337282.2075420287"
      ]
     },
     "execution_count": 39,
     "metadata": {},
     "output_type": "execute_result"
    }
   ],
   "source": [
    "Z.sum()"
   ]
  },
  {
   "cell_type": "markdown",
   "metadata": {},
   "source": [
    "Обучим еще один катбуст для регрессии."
   ]
  },
  {
   "cell_type": "code",
   "execution_count": 40,
   "metadata": {},
   "outputs": [],
   "source": [
    "cols = [\"exp_n_trips\", \"exp_discount_value\", \"city\"]\n",
    "X = new_train_df.loc[:, ~new_train_df.columns.isin(cols)]\n",
    "y = Z"
   ]
  },
  {
   "cell_type": "code",
   "execution_count": 48,
   "metadata": {},
   "outputs": [
    {
     "data": {
      "application/vnd.jupyter.widget-view+json": {
       "model_id": "3b975c6d1bdb4c78b99d0ef689d0a749",
       "version_major": 2,
       "version_minor": 0
      },
      "text/plain": [
       "MetricVisualizer(layout=Layout(align_self='stretch', height='500px'))"
      ]
     },
     "metadata": {},
     "output_type": "display_data"
    },
    {
     "data": {
      "text/plain": [
       "<catboost.core.CatBoostRegressor at 0x7ff10e278a10>"
      ]
     },
     "execution_count": 48,
     "metadata": {},
     "output_type": "execute_result"
    }
   ],
   "source": [
    "from catboost import CatBoostRegressor\n",
    "# Initialize CatBoostRegressor\n",
    "model = CatBoostRegressor(iterations=3000,\n",
    "                          learning_rate=0.001,\n",
    "                          depth=4)\n",
    "# Fit model\n",
    "model.fit(X, y, plot=True, silent=True)"
   ]
  },
  {
   "cell_type": "code",
   "execution_count": 49,
   "metadata": {},
   "outputs": [],
   "source": [
    "cols = [\"exp_n_trips\", \"exp_discount_value\"]\n",
    "\n",
    "X_test = test_df.loc[:, ~test_df.columns.isin(cols)]\n",
    "\n",
    "test_pred = model.predict(X_test)"
   ]
  },
  {
   "cell_type": "code",
   "execution_count": 50,
   "metadata": {},
   "outputs": [
    {
     "data": {
      "text/plain": [
       "array([ 5.25501935,  4.51496519,  4.65380723, ...,  5.07876785,\n",
       "       -0.83936343,  4.61914577])"
      ]
     },
     "execution_count": 50,
     "metadata": {},
     "output_type": "execute_result"
    }
   ],
   "source": [
    "test_pred"
   ]
  },
  {
   "cell_type": "code",
   "execution_count": 51,
   "metadata": {},
   "outputs": [],
   "source": [
    "cost = CostMetrics(pd.DataFrame({\n",
    "    'Model': test_pred,\n",
    "    'w': ~test_df.is_control.values,\n",
    "    'exp_n_trips': test_df.exp_n_trips,\n",
    "    'exp_discount_value': test_df.exp_discount_value\n",
    "}))"
   ]
  },
  {
   "cell_type": "code",
   "execution_count": 52,
   "metadata": {},
   "outputs": [],
   "source": [
    "cost.get_cumlift()"
   ]
  },
  {
   "cell_type": "code",
   "execution_count": 53,
   "metadata": {},
   "outputs": [
    {
     "data": {
      "image/png": "[encoded data removed]",
      "text/plain": [
       "<Figure size 576x576 with 1 Axes>"
      ]
     },
     "metadata": {
      "needs_background": "light"
     },
     "output_type": "display_data"
    }
   ],
   "source": [
    "cost.plot()"
   ]
  },
  {
   "cell_type": "code",
   "execution_count": 54,
   "metadata": {},
   "outputs": [
    {
     "data": {
      "text/plain": [
       "Model       8.735273\n",
       "Random    174.159396\n",
       "dtype: float64"
      ]
     },
     "execution_count": 54,
     "metadata": {},
     "output_type": "execute_result"
    }
   ],
   "source": [
    "cost.auuc_score()"
   ]
  },
  {
   "cell_type": "markdown",
   "metadata": {},
   "source": [
    "Видим, как хорошо у нас видна разница между контролем и тестом. Поэтому смело внедряем новую фичу."
   ]
  },
  {
   "cell_type": "markdown",
   "metadata": {},
   "source": [
    "### Задание 2\n",
    "\n",
    "Предложите свой способ разбиения пользователей на 4 группы по uplift-скору.  \n",
    "То есть нужно перейти от индивидуальных значений по скору к групповым.  \n",
    "Обоснуйте свой выбор с помощью метрик и/или графиков.  "
   ]
  },
  {
   "cell_type": "markdown",
   "metadata": {},
   "source": [
    "Мы можем кластеризовать данные и каждому кластеру присваивать метку, которая основывается на uplift-скор."
   ]
  },
  {
   "cell_type": "code",
   "execution_count": 55,
   "metadata": {},
   "outputs": [],
   "source": [
    "df = pd.DataFrame([test_df.is_control.astype(int), test_pred]).T"
   ]
  },
  {
   "cell_type": "code",
   "execution_count": 56,
   "metadata": {},
   "outputs": [
    {
     "data": {
      "text/plain": [
       "(202893, 2)"
      ]
     },
     "execution_count": 56,
     "metadata": {},
     "output_type": "execute_result"
    }
   ],
   "source": [
    "df.shape"
   ]
  },
  {
   "cell_type": "code",
   "execution_count": 57,
   "metadata": {},
   "outputs": [
    {
     "name": "stdout",
     "output_type": "stream",
     "text": [
      "[[-1.45522483e-13  4.90143283e+00]\n",
      " [ 1.00000000e+00 -1.08253960e+00]\n",
      " [-9.57567359e-15  1.08684544e+01]\n",
      " [-3.98847622e-14  7.22900727e+00]]\n"
     ]
    }
   ],
   "source": [
    "from sklearn.cluster import KMeans\n",
    "\n",
    "# create kmeans object\n",
    "kmeans = KMeans(n_clusters=4)\n",
    "# fit kmeans object to data\n",
    "kmeans.fit(df)\n",
    "# print location of clusters learned by kmeans object\n",
    "print(kmeans.cluster_centers_)\n",
    "# save new clusters for chart\n",
    "y_km = kmeans.fit_predict(df)"
   ]
  },
  {
   "cell_type": "code",
   "execution_count": 60,
   "metadata": {},
   "outputs": [
    {
     "data": {
      "text/plain": [
       "<matplotlib.collections.PathCollection at 0x7ff12e87bf90>"
      ]
     },
     "execution_count": 60,
     "metadata": {},
     "output_type": "execute_result"
    },
    {
     "data": {
      "image/png": "[encoded data removed]",
      "text/plain": [
       "<Figure size 432x288 with 1 Axes>"
      ]
     },
     "metadata": {
      "needs_background": "light"
     },
     "output_type": "display_data"
    }
   ],
   "source": [
    "plt.scatter(df[y_km == 0], df[y_km == 0], s=10, c='red')\n",
    "plt.scatter(df[y_km ==1], df[y_km == 1], s=10, c='black')\n",
    "plt.scatter(df[y_km ==2], df[y_km == 2], s=10, c='blue')\n",
    "plt.scatter(df[y_km ==3], df[y_km == 3], s=10, c='cyan')"
   ]
  },
  {
   "cell_type": "markdown",
   "metadata": {},
   "source": [
    "Вполне понятно как кластеризовались пользователи."
   ]
  },
  {
   "cell_type": "markdown",
   "metadata": {},
   "source": [
    "### Задание 3 - творческое\n",
    "\n",
    "Попробуйте придумать свой подход к оптимизации стоимости доп трипа.  \n",
    "Скорее всего, это потребует выйти за рамки реализованных библиотек.  \n",
    "Как возможные идеи: \n",
    "* подумать о новом критерии для сплита дерева, \n",
    "* изменить таргет для пользователя, \n",
    "* оптимизировать таргет на группе"
   ]
  },
  {
   "cell_type": "markdown",
   "metadata": {},
   "source": [
    "Давайте начнем с нуля.\n",
    "Наша задача как можно выгоднее внедрять новую фичу, которые мы протестировали на тестовой группе. "
   ]
  },
  {
   "cell_type": "markdown",
   "metadata": {},
   "source": [
    "Во-первых, мы можем использовать более сложные методы кластеризации. Например, umap"
   ]
  },
  {
   "cell_type": "code",
   "execution_count": null,
   "metadata": {},
   "outputs": [],
   "source": [
    "import umap.umap_ as umap\n",
    "from sklearn.preprocessing import PowerTransformer\n",
    "from sklearn.impute import SimpleImputer\n",
    "from sklearn.pipeline import make_pipeline\n",
    "\n",
    "# Scale\n",
    "pipe = make_pipeline(PowerTransformer())\n",
    "X = pipe.fit_transform(X_test.copy())\n",
    "\n",
    "manifold = umap.UMAP().fit(X, test_pred)"
   ]
  },
  {
   "cell_type": "code",
   "execution_count": null,
   "metadata": {},
   "outputs": [],
   "source": [
    "import umap.plot\n",
    "\n",
    "umap.plot.points(manifold, labels=y, theme=\"fire\");"
   ]
  },
  {
   "cell_type": "markdown",
   "metadata": {},
   "source": [
    "Видим, что данные локализованы в некоторых кластерах. С этими кластерами лучше работаь отдельно."
   ]
  },
  {
   "cell_type": "markdown",
   "metadata": {},
   "source": [
    "Во-вторых, в каждой группе отдельно будем считать разные таргеты. Например, если кластер характеризуется городом, то логично использовать таргет нацеленный на определенную местность."
   ]
  },
  {
   "cell_type": "markdown",
   "metadata": {},
   "source": [
    "В-третьих, в качестве итоговых решений неплохо бы проверить гипотезы, а затем применить МПГ, так мы можем интерпретировать нашу модель в отлоненных гипотезах."
   ]
  }
 ],
 "metadata": {
  "kernelspec": {
   "display_name": "Python 3 (ipykernel)",
   "language": "python",
   "name": "python3"
  },
  "language_info": {
   "codemirror_mode": {
    "name": "ipython",
    "version": 3
   },
   "file_extension": ".py",
   "mimetype": "text/x-python",
   "name": "python",
   "nbconvert_exporter": "python",
   "pygments_lexer": "ipython3",
   "version": "3.7.10"
  }
 },
 "nbformat": 4,
 "nbformat_minor": 4
}
